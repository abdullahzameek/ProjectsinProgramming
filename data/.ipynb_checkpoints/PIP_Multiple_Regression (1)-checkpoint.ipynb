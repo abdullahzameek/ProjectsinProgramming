{
 "cells": [
  {
   "cell_type": "code",
   "execution_count": 6,
   "metadata": {
    "id": "HxaPWSOeIalw",
    "scrolled": true
   },
   "outputs": [],
   "source": [
    "import numpy as np\n",
    "import pandas as pd\n",
    "import matplotlib.pyplot as plt\n",
    "import seaborn as sns\n",
    "import plotly.express\n",
    "import statsmodels.regression.linear_model as sm\n"
   ]
  },
  {
   "cell_type": "code",
   "execution_count": 7,
   "metadata": {
    "id": "cyPXZe-LIal2"
   },
   "outputs": [],
   "source": [
    "# others = pd.read_csv(\"/Users/skareti/Desktop/Projects in Programming/others_processed.csv\")\n",
    "# taxi = pd.read_csv(\"/Users/skareti/Desktop/Projects in Programming/nyc_taxi_processed.csv\")\n",
    "\n",
    "# Code to read csv file into Colaboratory:\n",
    "!pip install -U -q PyDrive\n",
    "from pydrive.auth import GoogleAuth\n",
    "from pydrive.drive import GoogleDrive\n",
    "from google.colab import auth\n",
    "from oauth2client.client import GoogleCredentials\n",
    "# Authenticate and create the PyDrive client.\n",
    "auth.authenticate_user()\n",
    "gauth = GoogleAuth()\n",
    "gauth.credentials = GoogleCredentials.get_application_default()\n",
    "drive = GoogleDrive(gauth)"
   ]
  },
  {
   "cell_type": "code",
   "execution_count": 8,
   "metadata": {
    "id": "0_1hMet8Jyft"
   },
   "outputs": [],
   "source": [
    "link_others = 'https://drive.google.com/file/d/1UQwQ6EUgAccjcQhl13CEYashQ5GTrDlM/view?usp=sharing'\n",
    "#shareable link for others"
   ]
  },
  {
   "cell_type": "code",
   "execution_count": 9,
   "metadata": {
    "colab": {
     "base_uri": "https://localhost:8080/"
    },
    "id": "d0Dc8psTKTZ5",
    "outputId": "566c858b-4695-41c0-c4e3-9fe7f394a3af"
   },
   "outputs": [
    {
     "name": "stdout",
     "output_type": "stream",
     "text": [
      "1UQwQ6EUgAccjcQhl13CEYashQ5GTrDlM\n"
     ]
    }
   ],
   "source": [
    "id = '1UQwQ6EUgAccjcQhl13CEYashQ5GTrDlM'\n",
    "print(id)"
   ]
  },
  {
   "cell_type": "code",
   "execution_count": 10,
   "metadata": {
    "id": "sVq86rgnJ8Rj"
   },
   "outputs": [],
   "source": [
    "downloaded = drive.CreateFile({'id':id})\n",
    "downloaded.GetContentFile('others_processed.csv')\n",
    "others = pd.read_csv('others_processed.csv')"
   ]
  },
  {
   "cell_type": "code",
   "execution_count": 11,
   "metadata": {
    "colab": {
     "base_uri": "https://localhost:8080/"
    },
    "id": "IsunHTdSL4nS",
    "outputId": "e8dcbe3d-f4b8-4c04-8ec0-f6d236b0e615"
   },
   "outputs": [
    {
     "name": "stdout",
     "output_type": "stream",
     "text": [
      "1OAX_KZXAMgPnlO8MXys8zlQ7EZNfHniT\n"
     ]
    }
   ],
   "source": [
    "link_taxi = 'https://drive.google.com/file/d/1OAX_KZXAMgPnlO8MXys8zlQ7EZNfHniT/view?usp=sharing'\n",
    "#shareable link for others\n",
    "id2 = '1OAX_KZXAMgPnlO8MXys8zlQ7EZNfHniT'\n",
    "print(id2)"
   ]
  },
  {
   "cell_type": "code",
   "execution_count": 12,
   "metadata": {
    "id": "ILveNaS1MIqj"
   },
   "outputs": [],
   "source": [
    "downloaded2 = drive.CreateFile({'id':id2})\n",
    "downloaded2.GetContentFile('nyc_taxi_processed.csv')\n",
    "taxi = pd.read_csv('nyc_taxi_processed.csv')"
   ]
  },
  {
   "cell_type": "code",
   "execution_count": 13,
   "metadata": {
    "colab": {
     "base_uri": "https://localhost:8080/",
     "height": 423
    },
    "id": "u8EtokgSgSJv",
    "outputId": "f2b20a0c-9dfe-4f7c-f25a-a65b9c610adc"
   },
   "outputs": [
    {
     "data": {
      "text/html": [
       "<div>\n",
       "<style scoped>\n",
       "    .dataframe tbody tr th:only-of-type {\n",
       "        vertical-align: middle;\n",
       "    }\n",
       "\n",
       "    .dataframe tbody tr th {\n",
       "        vertical-align: top;\n",
       "    }\n",
       "\n",
       "    .dataframe thead th {\n",
       "        text-align: right;\n",
       "    }\n",
       "</style>\n",
       "<table border=\"1\" class=\"dataframe\">\n",
       "  <thead>\n",
       "    <tr style=\"text-align: right;\">\n",
       "      <th></th>\n",
       "      <th>key</th>\n",
       "      <th>fare_amount</th>\n",
       "      <th>pickup_datetime</th>\n",
       "      <th>pickup_longitude</th>\n",
       "      <th>pickup_latitude</th>\n",
       "      <th>dropoff_longitude</th>\n",
       "      <th>dropoff_latitude</th>\n",
       "      <th>passenger_count</th>\n",
       "      <th>combined</th>\n",
       "      <th>distance</th>\n",
       "    </tr>\n",
       "  </thead>\n",
       "  <tbody>\n",
       "    <tr>\n",
       "      <th>0</th>\n",
       "      <td>2009-06-15 17:26:21.0000001</td>\n",
       "      <td>4.5</td>\n",
       "      <td>2009-06-15 17:26:21 UTC</td>\n",
       "      <td>-73.844311</td>\n",
       "      <td>40.721319</td>\n",
       "      <td>-73.841610</td>\n",
       "      <td>40.712278</td>\n",
       "      <td>1</td>\n",
       "      <td>[40.721319, -73.844311, 40.712278000000005, -7...</td>\n",
       "      <td>1.03</td>\n",
       "    </tr>\n",
       "    <tr>\n",
       "      <th>1</th>\n",
       "      <td>2010-01-05 16:52:16.0000002</td>\n",
       "      <td>16.9</td>\n",
       "      <td>2010-01-05 16:52:16 UTC</td>\n",
       "      <td>-74.016048</td>\n",
       "      <td>40.711303</td>\n",
       "      <td>-73.979268</td>\n",
       "      <td>40.782004</td>\n",
       "      <td>1</td>\n",
       "      <td>[40.711303, -74.016048, 40.782004, -73.979268]</td>\n",
       "      <td>8.45</td>\n",
       "    </tr>\n",
       "    <tr>\n",
       "      <th>2</th>\n",
       "      <td>2011-08-18 00:35:00.00000049</td>\n",
       "      <td>5.7</td>\n",
       "      <td>2011-08-18 00:35:00 UTC</td>\n",
       "      <td>-73.982738</td>\n",
       "      <td>40.761270</td>\n",
       "      <td>-73.991242</td>\n",
       "      <td>40.750562</td>\n",
       "      <td>2</td>\n",
       "      <td>[40.76127, -73.982738, 40.750562, -73.991242]</td>\n",
       "      <td>1.39</td>\n",
       "    </tr>\n",
       "    <tr>\n",
       "      <th>3</th>\n",
       "      <td>2012-04-21 04:30:42.0000001</td>\n",
       "      <td>7.7</td>\n",
       "      <td>2012-04-21 04:30:42 UTC</td>\n",
       "      <td>-73.987130</td>\n",
       "      <td>40.733143</td>\n",
       "      <td>-73.991567</td>\n",
       "      <td>40.758092</td>\n",
       "      <td>1</td>\n",
       "      <td>[40.733143, -73.98713000000001, 40.758092, -73...</td>\n",
       "      <td>2.80</td>\n",
       "    </tr>\n",
       "    <tr>\n",
       "      <th>4</th>\n",
       "      <td>2010-03-09 07:51:00.000000135</td>\n",
       "      <td>5.3</td>\n",
       "      <td>2010-03-09 07:51:00 UTC</td>\n",
       "      <td>-73.968095</td>\n",
       "      <td>40.768008</td>\n",
       "      <td>-73.956655</td>\n",
       "      <td>40.783762</td>\n",
       "      <td>1</td>\n",
       "      <td>[40.768008, -73.96809499999999, 40.783762, -73...</td>\n",
       "      <td>2.00</td>\n",
       "    </tr>\n",
       "  </tbody>\n",
       "</table>\n",
       "</div>"
      ],
      "text/plain": [
       "                             key  ...  distance\n",
       "0    2009-06-15 17:26:21.0000001  ...      1.03\n",
       "1    2010-01-05 16:52:16.0000002  ...      8.45\n",
       "2   2011-08-18 00:35:00.00000049  ...      1.39\n",
       "3    2012-04-21 04:30:42.0000001  ...      2.80\n",
       "4  2010-03-09 07:51:00.000000135  ...      2.00\n",
       "\n",
       "[5 rows x 10 columns]"
      ]
     },
     "execution_count": 13,
     "metadata": {
      "tags": []
     },
     "output_type": "execute_result"
    }
   ],
   "source": [
    "taxi.head()"
   ]
  },
  {
   "cell_type": "code",
   "execution_count": 14,
   "metadata": {
    "colab": {
     "base_uri": "https://localhost:8080/",
     "height": 288
    },
    "id": "PGNlKwAEIal2",
    "outputId": "357aa5cd-414f-42e9-f5a1-e00bef96b813",
    "scrolled": false
   },
   "outputs": [
    {
     "data": {
      "text/html": [
       "<div>\n",
       "<style scoped>\n",
       "    .dataframe tbody tr th:only-of-type {\n",
       "        vertical-align: middle;\n",
       "    }\n",
       "\n",
       "    .dataframe tbody tr th {\n",
       "        vertical-align: top;\n",
       "    }\n",
       "\n",
       "    .dataframe thead th {\n",
       "        text-align: right;\n",
       "    }\n",
       "</style>\n",
       "<table border=\"1\" class=\"dataframe\">\n",
       "  <thead>\n",
       "    <tr style=\"text-align: right;\">\n",
       "      <th></th>\n",
       "      <th>distance</th>\n",
       "      <th>cab_type</th>\n",
       "      <th>time_stamp</th>\n",
       "      <th>destination</th>\n",
       "      <th>source</th>\n",
       "      <th>price</th>\n",
       "      <th>surge_multiplier</th>\n",
       "      <th>id</th>\n",
       "      <th>product_id</th>\n",
       "      <th>name</th>\n",
       "    </tr>\n",
       "  </thead>\n",
       "  <tbody>\n",
       "    <tr>\n",
       "      <th>0</th>\n",
       "      <td>0.44</td>\n",
       "      <td>Lyft</td>\n",
       "      <td>50927-08-08 02:11:30</td>\n",
       "      <td>North Station</td>\n",
       "      <td>Haymarket Square</td>\n",
       "      <td>5.0</td>\n",
       "      <td>1.0</td>\n",
       "      <td>424553bb-7174-41ea-aeb4-fe06d4f4b9d7</td>\n",
       "      <td>lyft_line</td>\n",
       "      <td>Shared</td>\n",
       "    </tr>\n",
       "    <tr>\n",
       "      <th>1</th>\n",
       "      <td>0.44</td>\n",
       "      <td>Lyft</td>\n",
       "      <td>50874-09-21 18:34:37</td>\n",
       "      <td>North Station</td>\n",
       "      <td>Haymarket Square</td>\n",
       "      <td>11.0</td>\n",
       "      <td>1.0</td>\n",
       "      <td>4bd23055-6827-41c6-b23b-3c491f24e74d</td>\n",
       "      <td>lyft_premier</td>\n",
       "      <td>Lux</td>\n",
       "    </tr>\n",
       "    <tr>\n",
       "      <th>2</th>\n",
       "      <td>0.44</td>\n",
       "      <td>Lyft</td>\n",
       "      <td>50877-05-07 02:09:58</td>\n",
       "      <td>North Station</td>\n",
       "      <td>Haymarket Square</td>\n",
       "      <td>7.0</td>\n",
       "      <td>1.0</td>\n",
       "      <td>981a3613-77af-4620-a42a-0c0866077d1e</td>\n",
       "      <td>lyft</td>\n",
       "      <td>Lyft</td>\n",
       "    </tr>\n",
       "    <tr>\n",
       "      <th>3</th>\n",
       "      <td>0.44</td>\n",
       "      <td>Lyft</td>\n",
       "      <td>50883-04-07 16:05:49</td>\n",
       "      <td>North Station</td>\n",
       "      <td>Haymarket Square</td>\n",
       "      <td>26.0</td>\n",
       "      <td>1.0</td>\n",
       "      <td>c2d88af2-d278-4bfd-a8d0-29ca77cc5512</td>\n",
       "      <td>lyft_luxsuv</td>\n",
       "      <td>Lux Black XL</td>\n",
       "    </tr>\n",
       "    <tr>\n",
       "      <th>4</th>\n",
       "      <td>0.44</td>\n",
       "      <td>Lyft</td>\n",
       "      <td>50880-05-28 10:17:03</td>\n",
       "      <td>North Station</td>\n",
       "      <td>Haymarket Square</td>\n",
       "      <td>9.0</td>\n",
       "      <td>1.0</td>\n",
       "      <td>e0126e1f-8ca9-4f2e-82b3-50505a09db9a</td>\n",
       "      <td>lyft_plus</td>\n",
       "      <td>Lyft XL</td>\n",
       "    </tr>\n",
       "  </tbody>\n",
       "</table>\n",
       "</div>"
      ],
      "text/plain": [
       "   distance cab_type  ...    product_id          name\n",
       "0      0.44     Lyft  ...     lyft_line        Shared\n",
       "1      0.44     Lyft  ...  lyft_premier           Lux\n",
       "2      0.44     Lyft  ...          lyft          Lyft\n",
       "3      0.44     Lyft  ...   lyft_luxsuv  Lux Black XL\n",
       "4      0.44     Lyft  ...     lyft_plus       Lyft XL\n",
       "\n",
       "[5 rows x 10 columns]"
      ]
     },
     "execution_count": 14,
     "metadata": {
      "tags": []
     },
     "output_type": "execute_result"
    }
   ],
   "source": [
    "others.head()"
   ]
  },
  {
   "cell_type": "code",
   "execution_count": 15,
   "metadata": {
    "id": "j08KmE_EIal3"
   },
   "outputs": [],
   "source": [
    "uber = others[others.cab_type == 'Uber']\n",
    "uber = pd.DataFrame(uber)"
   ]
  },
  {
   "cell_type": "code",
   "execution_count": 16,
   "metadata": {
    "id": "gkFYuD2uIal4"
   },
   "outputs": [],
   "source": [
    "lyft = others[others.cab_type == 'Lyft']\n",
    "lyft = pd.DataFrame(lyft)"
   ]
  },
  {
   "cell_type": "code",
   "execution_count": 17,
   "metadata": {
    "colab": {
     "base_uri": "https://localhost:8080/"
    },
    "id": "-wjcFEhbIal4",
    "outputId": "fe0e4e68-9b34-4983-c11e-2366c716b92a",
    "scrolled": true
   },
   "outputs": [
    {
     "data": {
      "text/plain": [
       "distance            float64\n",
       "cab_type             object\n",
       "time_stamp           object\n",
       "destination          object\n",
       "source               object\n",
       "price               float64\n",
       "surge_multiplier    float64\n",
       "id                   object\n",
       "product_id           object\n",
       "name                 object\n",
       "dtype: object"
      ]
     },
     "execution_count": 17,
     "metadata": {
      "tags": []
     },
     "output_type": "execute_result"
    }
   ],
   "source": [
    "others.dtypes"
   ]
  },
  {
   "cell_type": "code",
   "execution_count": 18,
   "metadata": {
    "colab": {
     "base_uri": "https://localhost:8080/"
    },
    "id": "g1Izh0tZIal4",
    "outputId": "521e0eaa-5961-4f4c-9d6c-cbb9c2b445d6"
   },
   "outputs": [
    {
     "data": {
      "text/plain": [
       "distance                0\n",
       "cab_type                0\n",
       "time_stamp              0\n",
       "destination             0\n",
       "source                  0\n",
       "price               55095\n",
       "surge_multiplier        0\n",
       "id                      0\n",
       "product_id              0\n",
       "name                    0\n",
       "dtype: int64"
      ]
     },
     "execution_count": 18,
     "metadata": {
      "tags": []
     },
     "output_type": "execute_result"
    }
   ],
   "source": [
    "others.isnull().sum()"
   ]
  },
  {
   "cell_type": "code",
   "execution_count": 19,
   "metadata": {
    "colab": {
     "base_uri": "https://localhost:8080/",
     "height": 423
    },
    "id": "BUEiP7qxIal5",
    "outputId": "2400c89e-2902-4343-d898-f17dcf329ec8",
    "scrolled": true
   },
   "outputs": [
    {
     "data": {
      "text/html": [
       "<div>\n",
       "<style scoped>\n",
       "    .dataframe tbody tr th:only-of-type {\n",
       "        vertical-align: middle;\n",
       "    }\n",
       "\n",
       "    .dataframe tbody tr th {\n",
       "        vertical-align: top;\n",
       "    }\n",
       "\n",
       "    .dataframe thead th {\n",
       "        text-align: right;\n",
       "    }\n",
       "</style>\n",
       "<table border=\"1\" class=\"dataframe\">\n",
       "  <thead>\n",
       "    <tr style=\"text-align: right;\">\n",
       "      <th></th>\n",
       "      <th>key</th>\n",
       "      <th>fare_amount</th>\n",
       "      <th>pickup_datetime</th>\n",
       "      <th>pickup_longitude</th>\n",
       "      <th>pickup_latitude</th>\n",
       "      <th>dropoff_longitude</th>\n",
       "      <th>dropoff_latitude</th>\n",
       "      <th>passenger_count</th>\n",
       "      <th>combined</th>\n",
       "      <th>distance</th>\n",
       "    </tr>\n",
       "  </thead>\n",
       "  <tbody>\n",
       "    <tr>\n",
       "      <th>0</th>\n",
       "      <td>2009-06-15 17:26:21.0000001</td>\n",
       "      <td>4.5</td>\n",
       "      <td>2009-06-15 17:26:21 UTC</td>\n",
       "      <td>-73.844311</td>\n",
       "      <td>40.721319</td>\n",
       "      <td>-73.841610</td>\n",
       "      <td>40.712278</td>\n",
       "      <td>1</td>\n",
       "      <td>[40.721319, -73.844311, 40.712278000000005, -7...</td>\n",
       "      <td>1.03</td>\n",
       "    </tr>\n",
       "    <tr>\n",
       "      <th>1</th>\n",
       "      <td>2010-01-05 16:52:16.0000002</td>\n",
       "      <td>16.9</td>\n",
       "      <td>2010-01-05 16:52:16 UTC</td>\n",
       "      <td>-74.016048</td>\n",
       "      <td>40.711303</td>\n",
       "      <td>-73.979268</td>\n",
       "      <td>40.782004</td>\n",
       "      <td>1</td>\n",
       "      <td>[40.711303, -74.016048, 40.782004, -73.979268]</td>\n",
       "      <td>8.45</td>\n",
       "    </tr>\n",
       "    <tr>\n",
       "      <th>2</th>\n",
       "      <td>2011-08-18 00:35:00.00000049</td>\n",
       "      <td>5.7</td>\n",
       "      <td>2011-08-18 00:35:00 UTC</td>\n",
       "      <td>-73.982738</td>\n",
       "      <td>40.761270</td>\n",
       "      <td>-73.991242</td>\n",
       "      <td>40.750562</td>\n",
       "      <td>2</td>\n",
       "      <td>[40.76127, -73.982738, 40.750562, -73.991242]</td>\n",
       "      <td>1.39</td>\n",
       "    </tr>\n",
       "    <tr>\n",
       "      <th>3</th>\n",
       "      <td>2012-04-21 04:30:42.0000001</td>\n",
       "      <td>7.7</td>\n",
       "      <td>2012-04-21 04:30:42 UTC</td>\n",
       "      <td>-73.987130</td>\n",
       "      <td>40.733143</td>\n",
       "      <td>-73.991567</td>\n",
       "      <td>40.758092</td>\n",
       "      <td>1</td>\n",
       "      <td>[40.733143, -73.98713000000001, 40.758092, -73...</td>\n",
       "      <td>2.80</td>\n",
       "    </tr>\n",
       "    <tr>\n",
       "      <th>4</th>\n",
       "      <td>2010-03-09 07:51:00.000000135</td>\n",
       "      <td>5.3</td>\n",
       "      <td>2010-03-09 07:51:00 UTC</td>\n",
       "      <td>-73.968095</td>\n",
       "      <td>40.768008</td>\n",
       "      <td>-73.956655</td>\n",
       "      <td>40.783762</td>\n",
       "      <td>1</td>\n",
       "      <td>[40.768008, -73.96809499999999, 40.783762, -73...</td>\n",
       "      <td>2.00</td>\n",
       "    </tr>\n",
       "  </tbody>\n",
       "</table>\n",
       "</div>"
      ],
      "text/plain": [
       "                             key  ...  distance\n",
       "0    2009-06-15 17:26:21.0000001  ...      1.03\n",
       "1    2010-01-05 16:52:16.0000002  ...      8.45\n",
       "2   2011-08-18 00:35:00.00000049  ...      1.39\n",
       "3    2012-04-21 04:30:42.0000001  ...      2.80\n",
       "4  2010-03-09 07:51:00.000000135  ...      2.00\n",
       "\n",
       "[5 rows x 10 columns]"
      ]
     },
     "execution_count": 19,
     "metadata": {
      "tags": []
     },
     "output_type": "execute_result"
    }
   ],
   "source": [
    "taxi.head()"
   ]
  },
  {
   "cell_type": "code",
   "execution_count": 20,
   "metadata": {
    "colab": {
     "base_uri": "https://localhost:8080/"
    },
    "id": "hJFgT-7XIal5",
    "outputId": "96638727-78ff-4723-e59b-569b9c7fc7b3",
    "scrolled": true
   },
   "outputs": [
    {
     "data": {
      "text/plain": [
       "key                   object\n",
       "fare_amount          float64\n",
       "pickup_datetime       object\n",
       "pickup_longitude     float64\n",
       "pickup_latitude      float64\n",
       "dropoff_longitude    float64\n",
       "dropoff_latitude     float64\n",
       "passenger_count        int64\n",
       "combined              object\n",
       "distance             float64\n",
       "dtype: object"
      ]
     },
     "execution_count": 20,
     "metadata": {
      "tags": []
     },
     "output_type": "execute_result"
    }
   ],
   "source": [
    "taxi.dtypes"
   ]
  },
  {
   "cell_type": "code",
   "execution_count": 21,
   "metadata": {
    "colab": {
     "base_uri": "https://localhost:8080/"
    },
    "id": "CYMIQCUMIal5",
    "outputId": "8b070f15-810b-467b-e25b-a80b161f55d1"
   },
   "outputs": [
    {
     "data": {
      "text/plain": [
       "key                  0\n",
       "fare_amount          0\n",
       "pickup_datetime      0\n",
       "pickup_longitude     0\n",
       "pickup_latitude      0\n",
       "dropoff_longitude    8\n",
       "dropoff_latitude     8\n",
       "passenger_count      0\n",
       "combined             0\n",
       "distance             8\n",
       "dtype: int64"
      ]
     },
     "execution_count": 21,
     "metadata": {
      "tags": []
     },
     "output_type": "execute_result"
    }
   ],
   "source": [
    "taxi.isnull().sum()"
   ]
  },
  {
   "cell_type": "markdown",
   "metadata": {
    "id": "-kmSneIjIal6"
   },
   "source": [
    "## Look at the distribution of trip fares across taxis and all ride share companies"
   ]
  },
  {
   "cell_type": "code",
   "execution_count": 22,
   "metadata": {
    "colab": {
     "base_uri": "https://localhost:8080/",
     "height": 282
    },
    "id": "1RuNo2YzIal6",
    "outputId": "1e9ad7dd-8dc0-4d68-a701-589b351a4271"
   },
   "outputs": [
    {
     "data": {
      "text/plain": [
       "<matplotlib.axes._subplots.AxesSubplot at 0x7ff760157250>"
      ]
     },
     "execution_count": 22,
     "metadata": {
      "tags": []
     },
     "output_type": "execute_result"
    },
    {
     "data": {
      "image/png": "[encoded data removed]",
      "text/plain": [
       "<Figure size 432x288 with 1 Axes>"
      ]
     },
     "metadata": {
      "needs_background": "light",
      "tags": []
     },
     "output_type": "display_data"
    }
   ],
   "source": [
    "taxi.fare_amount.plot(kind = 'hist')"
   ]
  },
  {
   "cell_type": "code",
   "execution_count": 23,
   "metadata": {
    "colab": {
     "base_uri": "https://localhost:8080/",
     "height": 282
    },
    "id": "dD3UIBZYIal6",
    "outputId": "ca92be85-667f-4e1e-e6b6-4a1f18f9d687",
    "scrolled": false
   },
   "outputs": [
    {
     "data": {
      "text/plain": [
       "<matplotlib.axes._subplots.AxesSubplot at 0x7ff75488a850>"
      ]
     },
     "execution_count": 23,
     "metadata": {
      "tags": []
     },
     "output_type": "execute_result"
    },
    {
     "data": {
      "image/png": "[encoded data removed]",
      "text/plain": [
       "<Figure size 432x288 with 1 Axes>"
      ]
     },
     "metadata": {
      "needs_background": "light",
      "tags": []
     },
     "output_type": "display_data"
    }
   ],
   "source": [
    "others.price.plot(kind = 'hist')"
   ]
  },
  {
   "cell_type": "code",
   "execution_count": 24,
   "metadata": {
    "colab": {
     "base_uri": "https://localhost:8080/",
     "height": 513
    },
    "id": "EsYx401GIal7",
    "outputId": "47c254f4-f08a-44c8-d6cf-0a1af10578d8"
   },
   "outputs": [
    {
     "data": {
      "image/png": "[encoded data removed]",
      "text/plain": [
       "<Figure size 1152x576 with 1 Axes>"
      ]
     },
     "metadata": {
      "needs_background": "light",
      "tags": []
     },
     "output_type": "display_data"
    }
   ],
   "source": [
    "fig, ax = plt.subplots(figsize=(16, 8))\n",
    "sns.kdeplot(x = 'price', hue = 'cab_type', data = others)\n",
    "ax.set(title = 'KDE Plot of Different Ride Share Prices',\n",
    "      xlabel = 'Price ($)')\n",
    "plt.xlim(0, 65)\n",
    "plt.show()"
   ]
  },
  {
   "cell_type": "code",
   "execution_count": 25,
   "metadata": {
    "colab": {
     "base_uri": "https://localhost:8080/",
     "height": 529
    },
    "id": "4P5TU2YDIal7",
    "outputId": "2df38a0a-340d-4527-acfe-87d15f5f9666",
    "scrolled": true
   },
   "outputs": [
    {
     "data": {
      "text/plain": [
       "(0.0, 70.0)"
      ]
     },
     "execution_count": 25,
     "metadata": {
      "tags": []
     },
     "output_type": "execute_result"
    },
    {
     "data": {
      "image/png": "[encoded data removed]",
      "text/plain": [
       "<Figure size 1152x576 with 1 Axes>"
      ]
     },
     "metadata": {
      "needs_background": "light",
      "tags": []
     },
     "output_type": "display_data"
    }
   ],
   "source": [
    "fix,ax = plt.subplots(figsize = (16, 8))\n",
    "\n",
    "sns.kdeplot(taxi.fare_amount)\n",
    "\n",
    "ax.set(title = 'KDE Plot of Taxi Fare Amounts',\n",
    "      xlabel = 'Price')\n",
    "plt.xlim(0, 70)"
   ]
  },
  {
   "cell_type": "markdown",
   "metadata": {
    "id": "_ZHxPTZlIal7"
   },
   "source": [
    "## Machine Learning"
   ]
  },
  {
   "cell_type": "markdown",
   "metadata": {
    "id": "fWlKEl_pIal7"
   },
   "source": [
    "We want to find the best algorith/predictor(s) of the fare price for taxis, uber, and lyft"
   ]
  },
  {
   "cell_type": "markdown",
   "metadata": {
    "id": "bxdHFk31Ial7"
   },
   "source": [
    "### Multiple Regression - Uber"
   ]
  },
  {
   "cell_type": "markdown",
   "metadata": {
    "id": "NvVS0rX1Ial8"
   },
   "source": [
    "First, perform backwards selection to find the most highly correlated variables"
   ]
  },
  {
   "cell_type": "code",
   "execution_count": 26,
   "metadata": {
    "colab": {
     "base_uri": "https://localhost:8080/"
    },
    "id": "Bw1VEXwQIal8",
    "outputId": "6d642a0e-dce4-43a4-c1f9-d434975aad26",
    "scrolled": false
   },
   "outputs": [
    {
     "data": {
      "text/plain": [
       "12        20:59:39\n",
       "13        16:23:34\n",
       "14        07:05:35\n",
       "15        19:50:30\n",
       "16        00:52:41\n",
       "            ...   \n",
       "693066    08:52:14\n",
       "693067    08:52:14\n",
       "693068    08:52:14\n",
       "693069    08:52:14\n",
       "693070    08:52:14\n",
       "Name: time, Length: 385663, dtype: object"
      ]
     },
     "execution_count": 26,
     "metadata": {
      "tags": []
     },
     "output_type": "execute_result"
    }
   ],
   "source": [
    "uber['time'] = uber['time_stamp'].map(lambda x: x[-8:])\n",
    "uber.time"
   ]
  },
  {
   "cell_type": "code",
   "execution_count": 27,
   "metadata": {
    "id": "XCs0_2HnIal8"
   },
   "outputs": [],
   "source": [
    "import datetime as dt\n",
    "uber['time'] = pd.to_datetime(uber['time'])\n",
    "uber['time']=uber['time'].map(dt.datetime.toordinal)"
   ]
  },
  {
   "cell_type": "code",
   "execution_count": 28,
   "metadata": {
    "colab": {
     "base_uri": "https://localhost:8080/"
    },
    "id": "F_W6Hv99Ial8",
    "outputId": "e7e7bff8-09f2-4b6c-a4d2-0c729bd14464",
    "scrolled": true
   },
   "outputs": [
    {
     "data": {
      "text/plain": [
       "Index(['distance', 'cab_type', 'time_stamp', 'destination', 'source', 'price',\n",
       "       'surge_multiplier', 'id', 'product_id', 'name', 'time'],\n",
       "      dtype='object')"
      ]
     },
     "execution_count": 28,
     "metadata": {
      "tags": []
     },
     "output_type": "execute_result"
    }
   ],
   "source": [
    "uber.columns"
   ]
  },
  {
   "cell_type": "code",
   "execution_count": 29,
   "metadata": {
    "colab": {
     "base_uri": "https://localhost:8080/"
    },
    "id": "rjs8vx4ZQoQh",
    "outputId": "d4b2c249-1843-499c-d595-565b62e65e22"
   },
   "outputs": [
    {
     "data": {
      "text/plain": [
       "(385663, 11)"
      ]
     },
     "execution_count": 29,
     "metadata": {
      "tags": []
     },
     "output_type": "execute_result"
    }
   ],
   "source": [
    "uber.shape"
   ]
  },
  {
   "cell_type": "code",
   "execution_count": 30,
   "metadata": {
    "colab": {
     "base_uri": "https://localhost:8080/"
    },
    "id": "z0ijeyG3QbTC",
    "outputId": "1758baf5-09d5-41af-9e84-3e6bac999041"
   },
   "outputs": [
    {
     "data": {
      "text/plain": [
       "distance                0\n",
       "cab_type                0\n",
       "time_stamp              0\n",
       "destination             0\n",
       "source                  0\n",
       "price               55095\n",
       "surge_multiplier        0\n",
       "id                      0\n",
       "product_id              0\n",
       "name                    0\n",
       "time                    0\n",
       "dtype: int64"
      ]
     },
     "execution_count": 30,
     "metadata": {
      "tags": []
     },
     "output_type": "execute_result"
    }
   ],
   "source": [
    "#now that the df is set, see if there are any null values and decide if we want to drop or replace those values\n",
    "uber.isnull().sum()"
   ]
  },
  {
   "cell_type": "code",
   "execution_count": 31,
   "metadata": {
    "colab": {
     "base_uri": "https://localhost:8080/"
    },
    "id": "3kx_joC7QlYK",
    "outputId": "e55b7bd9-617c-41a2-ec2a-db43c07fe6cd"
   },
   "outputs": [
    {
     "data": {
      "text/plain": [
       "distance            0\n",
       "cab_type            0\n",
       "time_stamp          0\n",
       "destination         0\n",
       "source              0\n",
       "price               0\n",
       "surge_multiplier    0\n",
       "id                  0\n",
       "product_id          0\n",
       "name                0\n",
       "time                0\n",
       "dtype: int64"
      ]
     },
     "execution_count": 31,
     "metadata": {
      "tags": []
     },
     "output_type": "execute_result"
    }
   ],
   "source": [
    "#there are 55095 null values in our y variable, price, but in total there are 385663 data points. We can impute the values with the mean price\n",
    "uber.price = uber.price.fillna(uber.price.mean())\n",
    "\n",
    "\n",
    "#check to make sure there are no longer any null\n",
    "uber.isnull().sum()"
   ]
  },
  {
   "cell_type": "code",
   "execution_count": 32,
   "metadata": {
    "colab": {
     "base_uri": "https://localhost:8080/",
     "height": 903
    },
    "id": "N42fADdwIal8",
    "outputId": "a26fc6f8-53e9-46c7-fa97-de79c6a66aa9"
   },
   "outputs": [
    {
     "data": {
      "text/html": [
       "<div>\n",
       "<style scoped>\n",
       "    .dataframe tbody tr th:only-of-type {\n",
       "        vertical-align: middle;\n",
       "    }\n",
       "\n",
       "    .dataframe tbody tr th {\n",
       "        vertical-align: top;\n",
       "    }\n",
       "\n",
       "    .dataframe thead th {\n",
       "        text-align: right;\n",
       "    }\n",
       "</style>\n",
       "<table border=\"1\" class=\"dataframe\">\n",
       "  <thead>\n",
       "    <tr style=\"text-align: right;\">\n",
       "      <th></th>\n",
       "      <th>distance</th>\n",
       "      <th>cab_type</th>\n",
       "      <th>time_stamp</th>\n",
       "      <th>destination</th>\n",
       "      <th>source</th>\n",
       "      <th>price</th>\n",
       "      <th>surge_multiplier</th>\n",
       "      <th>id</th>\n",
       "      <th>product_id</th>\n",
       "      <th>name</th>\n",
       "      <th>time</th>\n",
       "    </tr>\n",
       "  </thead>\n",
       "  <tbody>\n",
       "    <tr>\n",
       "      <th>12</th>\n",
       "      <td>1.11</td>\n",
       "      <td>Uber</td>\n",
       "      <td>50885-03-29 20:59:39</td>\n",
       "      <td>West End</td>\n",
       "      <td>North End</td>\n",
       "      <td>12.000000</td>\n",
       "      <td>1.0</td>\n",
       "      <td>009e9c53-074d-43cf-aef2-0fbc7a47ed3d</td>\n",
       "      <td>6f72dfc5-27f1-42e8-84db-ccc7a75f6969</td>\n",
       "      <td>UberXL</td>\n",
       "      <td>737905</td>\n",
       "    </tr>\n",
       "    <tr>\n",
       "      <th>13</th>\n",
       "      <td>1.11</td>\n",
       "      <td>Uber</td>\n",
       "      <td>50919-07-16 16:23:34</td>\n",
       "      <td>West End</td>\n",
       "      <td>North End</td>\n",
       "      <td>16.000000</td>\n",
       "      <td>1.0</td>\n",
       "      <td>23f145da-f0c1-4d1f-a184-496bc003a7db</td>\n",
       "      <td>6c84fd89-3f11-4782-9b50-97c468b19529</td>\n",
       "      <td>Black</td>\n",
       "      <td>737905</td>\n",
       "    </tr>\n",
       "    <tr>\n",
       "      <th>14</th>\n",
       "      <td>1.11</td>\n",
       "      <td>Uber</td>\n",
       "      <td>50920-07-01 07:05:35</td>\n",
       "      <td>West End</td>\n",
       "      <td>North End</td>\n",
       "      <td>7.500000</td>\n",
       "      <td>1.0</td>\n",
       "      <td>357559cb-8c58-4278-a41a-e33b2e0997a3</td>\n",
       "      <td>55c66225-fbe7-4fd5-9072-eab1ece5e23e</td>\n",
       "      <td>UberX</td>\n",
       "      <td>737905</td>\n",
       "    </tr>\n",
       "    <tr>\n",
       "      <th>15</th>\n",
       "      <td>1.11</td>\n",
       "      <td>Uber</td>\n",
       "      <td>50929-03-30 19:50:30</td>\n",
       "      <td>West End</td>\n",
       "      <td>North End</td>\n",
       "      <td>7.500000</td>\n",
       "      <td>1.0</td>\n",
       "      <td>50ef1165-9d23-416c-a65c-18906207b295</td>\n",
       "      <td>9a0e7b09-b92b-4c41-9779-2ad22b4d779d</td>\n",
       "      <td>WAV</td>\n",
       "      <td>737905</td>\n",
       "    </tr>\n",
       "    <tr>\n",
       "      <th>16</th>\n",
       "      <td>1.11</td>\n",
       "      <td>Uber</td>\n",
       "      <td>50921-02-12 00:52:41</td>\n",
       "      <td>West End</td>\n",
       "      <td>North End</td>\n",
       "      <td>26.000000</td>\n",
       "      <td>1.0</td>\n",
       "      <td>91c4861c-1780-42b0-bca1-bbd64a422cc3</td>\n",
       "      <td>6d318bcc-22a3-4af6-bddd-b409bfce1546</td>\n",
       "      <td>Black SUV</td>\n",
       "      <td>737905</td>\n",
       "    </tr>\n",
       "    <tr>\n",
       "      <th>...</th>\n",
       "      <td>...</td>\n",
       "      <td>...</td>\n",
       "      <td>...</td>\n",
       "      <td>...</td>\n",
       "      <td>...</td>\n",
       "      <td>...</td>\n",
       "      <td>...</td>\n",
       "      <td>...</td>\n",
       "      <td>...</td>\n",
       "      <td>...</td>\n",
       "      <td>...</td>\n",
       "    </tr>\n",
       "    <tr>\n",
       "      <th>693066</th>\n",
       "      <td>1.00</td>\n",
       "      <td>Uber</td>\n",
       "      <td>50888-03-03 08:52:14</td>\n",
       "      <td>North End</td>\n",
       "      <td>West End</td>\n",
       "      <td>13.000000</td>\n",
       "      <td>1.0</td>\n",
       "      <td>616d3611-1820-450a-9845-a9ff304a4842</td>\n",
       "      <td>6f72dfc5-27f1-42e8-84db-ccc7a75f6969</td>\n",
       "      <td>UberXL</td>\n",
       "      <td>737905</td>\n",
       "    </tr>\n",
       "    <tr>\n",
       "      <th>693067</th>\n",
       "      <td>1.00</td>\n",
       "      <td>Uber</td>\n",
       "      <td>50888-03-03 08:52:14</td>\n",
       "      <td>North End</td>\n",
       "      <td>West End</td>\n",
       "      <td>9.500000</td>\n",
       "      <td>1.0</td>\n",
       "      <td>633a3fc3-1f86-4b9e-9d48-2b7132112341</td>\n",
       "      <td>55c66225-fbe7-4fd5-9072-eab1ece5e23e</td>\n",
       "      <td>UberX</td>\n",
       "      <td>737905</td>\n",
       "    </tr>\n",
       "    <tr>\n",
       "      <th>693068</th>\n",
       "      <td>1.00</td>\n",
       "      <td>Uber</td>\n",
       "      <td>50888-03-03 08:52:14</td>\n",
       "      <td>North End</td>\n",
       "      <td>West End</td>\n",
       "      <td>15.795343</td>\n",
       "      <td>1.0</td>\n",
       "      <td>64d451d0-639f-47a4-9b7c-6fd92fbd264f</td>\n",
       "      <td>8cf7e821-f0d3-49c6-8eba-e679c0ebcf6a</td>\n",
       "      <td>Taxi</td>\n",
       "      <td>737905</td>\n",
       "    </tr>\n",
       "    <tr>\n",
       "      <th>693069</th>\n",
       "      <td>1.00</td>\n",
       "      <td>Uber</td>\n",
       "      <td>50888-03-03 08:52:14</td>\n",
       "      <td>North End</td>\n",
       "      <td>West End</td>\n",
       "      <td>27.000000</td>\n",
       "      <td>1.0</td>\n",
       "      <td>727e5f07-a96b-4ad1-a2c7-9abc3ad55b4e</td>\n",
       "      <td>6d318bcc-22a3-4af6-bddd-b409bfce1546</td>\n",
       "      <td>Black SUV</td>\n",
       "      <td>737905</td>\n",
       "    </tr>\n",
       "    <tr>\n",
       "      <th>693070</th>\n",
       "      <td>1.00</td>\n",
       "      <td>Uber</td>\n",
       "      <td>50888-03-03 08:52:14</td>\n",
       "      <td>North End</td>\n",
       "      <td>West End</td>\n",
       "      <td>10.000000</td>\n",
       "      <td>1.0</td>\n",
       "      <td>e7fdc087-fe86-40a5-a3c3-3b2a8badcbda</td>\n",
       "      <td>997acbb5-e102-41e1-b155-9df7de0a73f2</td>\n",
       "      <td>UberPool</td>\n",
       "      <td>737905</td>\n",
       "    </tr>\n",
       "  </tbody>\n",
       "</table>\n",
       "<p>385663 rows × 11 columns</p>\n",
       "</div>"
      ],
      "text/plain": [
       "        distance cab_type  ...       name    time\n",
       "12          1.11     Uber  ...     UberXL  737905\n",
       "13          1.11     Uber  ...      Black  737905\n",
       "14          1.11     Uber  ...      UberX  737905\n",
       "15          1.11     Uber  ...        WAV  737905\n",
       "16          1.11     Uber  ...  Black SUV  737905\n",
       "...          ...      ...  ...        ...     ...\n",
       "693066      1.00     Uber  ...     UberXL  737905\n",
       "693067      1.00     Uber  ...      UberX  737905\n",
       "693068      1.00     Uber  ...       Taxi  737905\n",
       "693069      1.00     Uber  ...  Black SUV  737905\n",
       "693070      1.00     Uber  ...   UberPool  737905\n",
       "\n",
       "[385663 rows x 11 columns]"
      ]
     },
     "execution_count": 32,
     "metadata": {
      "tags": []
     },
     "output_type": "execute_result"
    }
   ],
   "source": [
    "uber"
   ]
  },
  {
   "cell_type": "code",
   "execution_count": 33,
   "metadata": {
    "id": "qCuEJOT6Ial9"
   },
   "outputs": [],
   "source": [
    "x = uber[['distance', 'cab_type', 'destination', 'source',\n",
    "       'surge_multiplier', 'name', 'time']]\n",
    "# x = uber[['distance', 'cab_type', 'destination', 'source',\n",
    "#        'surge_multiplier', 'name']]\n",
    "y = uber.price"
   ]
  },
  {
   "cell_type": "code",
   "execution_count": 34,
   "metadata": {
    "colab": {
     "base_uri": "https://localhost:8080/"
    },
    "id": "p8D0ZA1wIal9",
    "outputId": "679d3a7e-afbb-43a6-e785-d0c963ca9bfd",
    "scrolled": true
   },
   "outputs": [
    {
     "data": {
      "text/plain": [
       "UberXL       55096\n",
       "Black SUV    55096\n",
       "WAV          55096\n",
       "Black        55095\n",
       "Taxi         55095\n",
       "UberX        55094\n",
       "UberPool     55091\n",
       "Name: name, dtype: int64"
      ]
     },
     "execution_count": 34,
     "metadata": {
      "tags": []
     },
     "output_type": "execute_result"
    }
   ],
   "source": [
    "uber.name.value_counts()"
   ]
  },
  {
   "cell_type": "code",
   "execution_count": 35,
   "metadata": {
    "colab": {
     "base_uri": "https://localhost:8080/"
    },
    "id": "WR9asjcaIal9",
    "outputId": "04629105-8068-462b-d536-9f508c4fd9ed"
   },
   "outputs": [
    {
     "data": {
      "text/plain": [
       "Index(['distance', 'cab_type', 'destination', 'source', 'surge_multiplier',\n",
       "       'name', 'time'],\n",
       "      dtype='object')"
      ]
     },
     "execution_count": 35,
     "metadata": {
      "tags": []
     },
     "output_type": "execute_result"
    }
   ],
   "source": [
    "x.columns"
   ]
  },
  {
   "cell_type": "code",
   "execution_count": 36,
   "metadata": {
    "id": "NIsvqj0nIal9"
   },
   "outputs": [],
   "source": [
    "#one hot encoding for categorical data\n",
    "x = pd.get_dummies(x, columns = ['name', 'destination', 'source', 'cab_type'])"
   ]
  },
  {
   "cell_type": "code",
   "execution_count": 37,
   "metadata": {
    "colab": {
     "base_uri": "https://localhost:8080/",
     "height": 225
    },
    "id": "yph-u6LkIal-",
    "outputId": "1840fd2d-c9b8-40d0-9114-89179967b39c",
    "scrolled": true
   },
   "outputs": [
    {
     "data": {
      "text/html": [
       "<div>\n",
       "<style scoped>\n",
       "    .dataframe tbody tr th:only-of-type {\n",
       "        vertical-align: middle;\n",
       "    }\n",
       "\n",
       "    .dataframe tbody tr th {\n",
       "        vertical-align: top;\n",
       "    }\n",
       "\n",
       "    .dataframe thead th {\n",
       "        text-align: right;\n",
       "    }\n",
       "</style>\n",
       "<table border=\"1\" class=\"dataframe\">\n",
       "  <thead>\n",
       "    <tr style=\"text-align: right;\">\n",
       "      <th></th>\n",
       "      <th>distance</th>\n",
       "      <th>surge_multiplier</th>\n",
       "      <th>time</th>\n",
       "      <th>name_Black</th>\n",
       "      <th>name_Black SUV</th>\n",
       "      <th>name_Taxi</th>\n",
       "      <th>name_UberPool</th>\n",
       "      <th>name_UberX</th>\n",
       "      <th>name_UberXL</th>\n",
       "      <th>name_WAV</th>\n",
       "      <th>destination_Back Bay</th>\n",
       "      <th>destination_Beacon Hill</th>\n",
       "      <th>destination_Boston University</th>\n",
       "      <th>destination_Fenway</th>\n",
       "      <th>destination_Financial District</th>\n",
       "      <th>destination_Haymarket Square</th>\n",
       "      <th>destination_North End</th>\n",
       "      <th>destination_North Station</th>\n",
       "      <th>destination_Northeastern University</th>\n",
       "      <th>destination_South Station</th>\n",
       "      <th>destination_Theatre District</th>\n",
       "      <th>destination_West End</th>\n",
       "      <th>source_Back Bay</th>\n",
       "      <th>source_Beacon Hill</th>\n",
       "      <th>source_Boston University</th>\n",
       "      <th>source_Fenway</th>\n",
       "      <th>source_Financial District</th>\n",
       "      <th>source_Haymarket Square</th>\n",
       "      <th>source_North End</th>\n",
       "      <th>source_North Station</th>\n",
       "      <th>source_Northeastern University</th>\n",
       "      <th>source_South Station</th>\n",
       "      <th>source_Theatre District</th>\n",
       "      <th>source_West End</th>\n",
       "      <th>cab_type_Uber</th>\n",
       "    </tr>\n",
       "  </thead>\n",
       "  <tbody>\n",
       "    <tr>\n",
       "      <th>12</th>\n",
       "      <td>1.11</td>\n",
       "      <td>1.0</td>\n",
       "      <td>737905</td>\n",
       "      <td>0</td>\n",
       "      <td>0</td>\n",
       "      <td>0</td>\n",
       "      <td>0</td>\n",
       "      <td>0</td>\n",
       "      <td>1</td>\n",
       "      <td>0</td>\n",
       "      <td>0</td>\n",
       "      <td>0</td>\n",
       "      <td>0</td>\n",
       "      <td>0</td>\n",
       "      <td>0</td>\n",
       "      <td>0</td>\n",
       "      <td>0</td>\n",
       "      <td>0</td>\n",
       "      <td>0</td>\n",
       "      <td>0</td>\n",
       "      <td>0</td>\n",
       "      <td>1</td>\n",
       "      <td>0</td>\n",
       "      <td>0</td>\n",
       "      <td>0</td>\n",
       "      <td>0</td>\n",
       "      <td>0</td>\n",
       "      <td>0</td>\n",
       "      <td>1</td>\n",
       "      <td>0</td>\n",
       "      <td>0</td>\n",
       "      <td>0</td>\n",
       "      <td>0</td>\n",
       "      <td>0</td>\n",
       "      <td>1</td>\n",
       "    </tr>\n",
       "    <tr>\n",
       "      <th>13</th>\n",
       "      <td>1.11</td>\n",
       "      <td>1.0</td>\n",
       "      <td>737905</td>\n",
       "      <td>1</td>\n",
       "      <td>0</td>\n",
       "      <td>0</td>\n",
       "      <td>0</td>\n",
       "      <td>0</td>\n",
       "      <td>0</td>\n",
       "      <td>0</td>\n",
       "      <td>0</td>\n",
       "      <td>0</td>\n",
       "      <td>0</td>\n",
       "      <td>0</td>\n",
       "      <td>0</td>\n",
       "      <td>0</td>\n",
       "      <td>0</td>\n",
       "      <td>0</td>\n",
       "      <td>0</td>\n",
       "      <td>0</td>\n",
       "      <td>0</td>\n",
       "      <td>1</td>\n",
       "      <td>0</td>\n",
       "      <td>0</td>\n",
       "      <td>0</td>\n",
       "      <td>0</td>\n",
       "      <td>0</td>\n",
       "      <td>0</td>\n",
       "      <td>1</td>\n",
       "      <td>0</td>\n",
       "      <td>0</td>\n",
       "      <td>0</td>\n",
       "      <td>0</td>\n",
       "      <td>0</td>\n",
       "      <td>1</td>\n",
       "    </tr>\n",
       "    <tr>\n",
       "      <th>14</th>\n",
       "      <td>1.11</td>\n",
       "      <td>1.0</td>\n",
       "      <td>737905</td>\n",
       "      <td>0</td>\n",
       "      <td>0</td>\n",
       "      <td>0</td>\n",
       "      <td>0</td>\n",
       "      <td>1</td>\n",
       "      <td>0</td>\n",
       "      <td>0</td>\n",
       "      <td>0</td>\n",
       "      <td>0</td>\n",
       "      <td>0</td>\n",
       "      <td>0</td>\n",
       "      <td>0</td>\n",
       "      <td>0</td>\n",
       "      <td>0</td>\n",
       "      <td>0</td>\n",
       "      <td>0</td>\n",
       "      <td>0</td>\n",
       "      <td>0</td>\n",
       "      <td>1</td>\n",
       "      <td>0</td>\n",
       "      <td>0</td>\n",
       "      <td>0</td>\n",
       "      <td>0</td>\n",
       "      <td>0</td>\n",
       "      <td>0</td>\n",
       "      <td>1</td>\n",
       "      <td>0</td>\n",
       "      <td>0</td>\n",
       "      <td>0</td>\n",
       "      <td>0</td>\n",
       "      <td>0</td>\n",
       "      <td>1</td>\n",
       "    </tr>\n",
       "    <tr>\n",
       "      <th>15</th>\n",
       "      <td>1.11</td>\n",
       "      <td>1.0</td>\n",
       "      <td>737905</td>\n",
       "      <td>0</td>\n",
       "      <td>0</td>\n",
       "      <td>0</td>\n",
       "      <td>0</td>\n",
       "      <td>0</td>\n",
       "      <td>0</td>\n",
       "      <td>1</td>\n",
       "      <td>0</td>\n",
       "      <td>0</td>\n",
       "      <td>0</td>\n",
       "      <td>0</td>\n",
       "      <td>0</td>\n",
       "      <td>0</td>\n",
       "      <td>0</td>\n",
       "      <td>0</td>\n",
       "      <td>0</td>\n",
       "      <td>0</td>\n",
       "      <td>0</td>\n",
       "      <td>1</td>\n",
       "      <td>0</td>\n",
       "      <td>0</td>\n",
       "      <td>0</td>\n",
       "      <td>0</td>\n",
       "      <td>0</td>\n",
       "      <td>0</td>\n",
       "      <td>1</td>\n",
       "      <td>0</td>\n",
       "      <td>0</td>\n",
       "      <td>0</td>\n",
       "      <td>0</td>\n",
       "      <td>0</td>\n",
       "      <td>1</td>\n",
       "    </tr>\n",
       "    <tr>\n",
       "      <th>16</th>\n",
       "      <td>1.11</td>\n",
       "      <td>1.0</td>\n",
       "      <td>737905</td>\n",
       "      <td>0</td>\n",
       "      <td>1</td>\n",
       "      <td>0</td>\n",
       "      <td>0</td>\n",
       "      <td>0</td>\n",
       "      <td>0</td>\n",
       "      <td>0</td>\n",
       "      <td>0</td>\n",
       "      <td>0</td>\n",
       "      <td>0</td>\n",
       "      <td>0</td>\n",
       "      <td>0</td>\n",
       "      <td>0</td>\n",
       "      <td>0</td>\n",
       "      <td>0</td>\n",
       "      <td>0</td>\n",
       "      <td>0</td>\n",
       "      <td>0</td>\n",
       "      <td>1</td>\n",
       "      <td>0</td>\n",
       "      <td>0</td>\n",
       "      <td>0</td>\n",
       "      <td>0</td>\n",
       "      <td>0</td>\n",
       "      <td>0</td>\n",
       "      <td>1</td>\n",
       "      <td>0</td>\n",
       "      <td>0</td>\n",
       "      <td>0</td>\n",
       "      <td>0</td>\n",
       "      <td>0</td>\n",
       "      <td>1</td>\n",
       "    </tr>\n",
       "  </tbody>\n",
       "</table>\n",
       "</div>"
      ],
      "text/plain": [
       "    distance  surge_multiplier  ...  source_West End  cab_type_Uber\n",
       "12      1.11               1.0  ...                0              1\n",
       "13      1.11               1.0  ...                0              1\n",
       "14      1.11               1.0  ...                0              1\n",
       "15      1.11               1.0  ...                0              1\n",
       "16      1.11               1.0  ...                0              1\n",
       "\n",
       "[5 rows x 35 columns]"
      ]
     },
     "execution_count": 37,
     "metadata": {
      "tags": []
     },
     "output_type": "execute_result"
    }
   ],
   "source": [
    "x.head()"
   ]
  },
  {
   "cell_type": "code",
   "execution_count": 38,
   "metadata": {
    "colab": {
     "base_uri": "https://localhost:8080/"
    },
    "id": "tWfotYzAIal-",
    "outputId": "f08a1f21-04d5-41cf-9585-ca669ff16821"
   },
   "outputs": [
    {
     "name": "stdout",
     "output_type": "stream",
     "text": [
      "[ 7.21675911 12.64061288 18.81599798 ... 28.91706601  8.59604575\n",
      " 20.69536847]\n"
     ]
    }
   ],
   "source": [
    "from sklearn.model_selection import train_test_split\n",
    "x_train, x_test, y_train, y_test = train_test_split(\n",
    "        x, y, test_size = 0.3, random_state = 0)\n",
    "from sklearn.linear_model import LinearRegression\n",
    "lm = LinearRegression()\n",
    "lm.fit(x_train, y_train)\n",
    "yhat = lm.predict(x_test)\n",
    "print(yhat)"
   ]
  },
  {
   "cell_type": "code",
   "execution_count": 39,
   "metadata": {
    "colab": {
     "base_uri": "https://localhost:8080/"
    },
    "id": "BuEhFuR_Ial-",
    "outputId": "a4b41881-6463-4259-a969-0b72345ba32c"
   },
   "outputs": [
    {
     "name": "stdout",
     "output_type": "stream",
     "text": [
      "                            OLS Regression Results                            \n",
      "==============================================================================\n",
      "Dep. Variable:                  price   R-squared:                       0.905\n",
      "Model:                            OLS   Adj. R-squared:                  0.905\n",
      "Method:                 Least Squares   F-statistic:                 1.408e+05\n",
      "Date:                Sun, 25 Apr 2021   Prob (F-statistic):               0.00\n",
      "Time:                        19:19:25   Log-Likelihood:            -8.9232e+05\n",
      "No. Observations:              385663   AIC:                         1.785e+06\n",
      "Df Residuals:                  385636   BIC:                         1.785e+06\n",
      "Df Model:                          26                                         \n",
      "Covariance Type:            nonrobust                                         \n",
      "==============================================================================\n",
      "                 coef    std err          t      P>|t|      [0.025      0.975]\n",
      "------------------------------------------------------------------------------\n",
      "const       2.051e-11   3.13e-14    655.851      0.000    2.05e-11    2.06e-11\n",
      "x1             2.1133      0.004    551.343      0.000       2.106       2.121\n",
      "x2          2.051e-11   3.13e-14    655.865      0.000    2.04e-11    2.06e-11\n",
      "x3          1.514e-05   2.31e-08    655.793      0.000    1.51e-05    1.52e-05\n",
      "x4             4.7285      0.010    489.933      0.000       4.710       4.747\n",
      "x5            14.4916      0.010   1501.509      0.000      14.473      14.510\n",
      "x6             0.0001      0.010      0.012      0.991      -0.019       0.019\n",
      "x7            -7.0428      0.010   -729.692      0.000      -7.062      -7.024\n",
      "x8            -6.0302      0.010   -624.793      0.000      -6.049      -6.011\n",
      "x9            -0.1171      0.010    -12.130      0.000      -0.136      -0.098\n",
      "x10           -6.0302      0.010   -624.805      0.000      -6.049      -6.011\n",
      "x11           -0.2116      0.019    -10.942      0.000      -0.250      -0.174\n",
      "x12            0.1663      0.024      6.972      0.000       0.120       0.213\n",
      "x13           -0.2165      0.024     -9.112      0.000      -0.263      -0.170\n",
      "x14            0.2134      0.019     11.031      0.000       0.175       0.251\n",
      "x15            0.2194      0.024      9.164      0.000       0.172       0.266\n",
      "x16            0.0218      0.024      0.915      0.360      -0.025       0.068\n",
      "x17            0.0792      0.019      4.092      0.000       0.041       0.117\n",
      "x18            0.0488      0.024      2.058      0.040       0.002       0.095\n",
      "x19           -0.1387      0.024     -5.826      0.000      -0.185      -0.092\n",
      "x20            0.1028      0.019      5.326      0.000       0.065       0.141\n",
      "x21           -0.1489      0.019     -7.708      0.000      -0.187      -0.111\n",
      "x22           -0.1547      0.019     -7.991      0.000      -0.193      -0.117\n",
      "x23           -0.3484      0.019    -17.963      0.000      -0.386      -0.310\n",
      "x24            0.2648      0.019     13.627      0.000       0.227       0.303\n",
      "x25            0.3760      0.016     23.486      0.000       0.345       0.407\n",
      "x26           -0.3857      0.016    -24.297      0.000      -0.417      -0.355\n",
      "x27            0.0029      0.016      0.182      0.856      -0.028       0.034\n",
      "x28            0.1142      0.019      5.889      0.000       0.076       0.152\n",
      "x29           -0.0850      0.019     -4.387      0.000      -0.123      -0.047\n",
      "==============================================================================\n",
      "Omnibus:                   189287.121   Durbin-Watson:                   1.689\n",
      "Prob(Omnibus):                  0.000   Jarque-Bera (JB):          3837085.333\n",
      "Skew:                           1.897   Prob(JB):                         0.00\n",
      "Kurtosis:                      17.980   Cond. No.                     1.39e+22\n",
      "==============================================================================\n",
      "\n",
      "Warnings:\n",
      "[1] Standard Errors assume that the covariance matrix of the errors is correctly specified.\n",
      "[2] The smallest eigenvalue is 1.08e-27. This might indicate that there are\n",
      "strong multicollinearity problems or that the design matrix is singular.\n"
     ]
    }
   ],
   "source": [
    "#method for backwards selection, remove variables with p-values >0.05.\n",
    "\n",
    "x = np.append(arr = np.ones((385663, 1)).astype(int), \n",
    "              values = x, axis = 1)\n",
    "x_opt = x[:, [0, 1, 2, 3, 4, 5, 6, 7, 8, 9, 10, 12, 13, 14, 15, 16, 17, 18, 19, 20, 21, 22, 23, 24, 27, 29, 31, 32, 33, 34]]\n",
    "ols = sm.OLS(endog = y, exog = x_opt).fit()\n",
    "print(ols.summary())"
   ]
  },
  {
   "cell_type": "code",
   "execution_count": 40,
   "metadata": {
    "id": "YRrlb2hfIal_"
   },
   "outputs": [],
   "source": [
    "x_opt = x[:, [0, 1, 2, 3, 4, 5, 6, 7, 8, 9, 10, 12, 13, 14, 15, 16, 17, 18, 19, 20, 21, 22, 23, 24, 27, 29, 31, 32, 33, 34]]\n"
   ]
  },
  {
   "cell_type": "code",
   "execution_count": 41,
   "metadata": {
    "colab": {
     "base_uri": "https://localhost:8080/"
    },
    "id": "Wjbc6yvZVcvY",
    "outputId": "447fca9f-008e-435e-d6f0-dd833b740605"
   },
   "outputs": [
    {
     "name": "stdout",
     "output_type": "stream",
     "text": [
      "RMSE: 2.4500560057494973\n",
      "R2 Score: 0.9045927420860818\n"
     ]
    }
   ],
   "source": [
    "#redo multiple regression with x_opt\n",
    "x_train, x_test, y_train, y_test = train_test_split(\n",
    "        x_opt, y, test_size = 0.3, random_state = 0)\n",
    "from sklearn.linear_model import LinearRegression\n",
    "lm = LinearRegression()\n",
    "lm.fit(x_train, y_train)\n",
    "pred = lm.predict(x_test)\n",
    "\n",
    "#use mean squared error as metric\n",
    "from sklearn.metrics import mean_squared_error, r2_score\n",
    "print(\"RMSE: \" + str(mean_squared_error(y_test, yhat, squared = False)))\n",
    "\n",
    "\n",
    "#use r2_score\n",
    "print(\"R2 Score: \" + str(r2_score(y_test, yhat)))\n"
   ]
  },
  {
   "cell_type": "markdown",
   "metadata": {
    "id": "8pZSnbx2jcq7"
   },
   "source": [
    "Multiple Regression - Lyft\n"
   ]
  },
  {
   "cell_type": "code",
   "execution_count": 42,
   "metadata": {
    "colab": {
     "base_uri": "https://localhost:8080/"
    },
    "id": "jDMGJCZrdC_M",
    "outputId": "c2117e1a-3f7a-4c83-ccc4-8f6b3a49f2ec"
   },
   "outputs": [
    {
     "data": {
      "text/plain": [
       "0         02:11:30\n",
       "1         18:34:37\n",
       "2         02:09:58\n",
       "3         16:05:49\n",
       "4         10:17:03\n",
       "            ...   \n",
       "693042    09:07:03\n",
       "693043    09:07:03\n",
       "693048    13:35:23\n",
       "693051    13:35:23\n",
       "693053    13:35:23\n",
       "Name: time, Length: 307408, dtype: object"
      ]
     },
     "execution_count": 42,
     "metadata": {
      "tags": []
     },
     "output_type": "execute_result"
    }
   ],
   "source": [
    "lyft['time'] = lyft['time_stamp'].map(lambda x: x[-8:])\n",
    "lyft.time"
   ]
  },
  {
   "cell_type": "code",
   "execution_count": 43,
   "metadata": {
    "colab": {
     "base_uri": "https://localhost:8080/",
     "height": 903
    },
    "id": "cUqOK4bRj4da",
    "outputId": "d7a1bd63-efbf-4a06-e5f3-e0284520c704"
   },
   "outputs": [
    {
     "data": {
      "text/html": [
       "<div>\n",
       "<style scoped>\n",
       "    .dataframe tbody tr th:only-of-type {\n",
       "        vertical-align: middle;\n",
       "    }\n",
       "\n",
       "    .dataframe tbody tr th {\n",
       "        vertical-align: top;\n",
       "    }\n",
       "\n",
       "    .dataframe thead th {\n",
       "        text-align: right;\n",
       "    }\n",
       "</style>\n",
       "<table border=\"1\" class=\"dataframe\">\n",
       "  <thead>\n",
       "    <tr style=\"text-align: right;\">\n",
       "      <th></th>\n",
       "      <th>distance</th>\n",
       "      <th>cab_type</th>\n",
       "      <th>time_stamp</th>\n",
       "      <th>destination</th>\n",
       "      <th>source</th>\n",
       "      <th>price</th>\n",
       "      <th>surge_multiplier</th>\n",
       "      <th>id</th>\n",
       "      <th>product_id</th>\n",
       "      <th>name</th>\n",
       "      <th>time</th>\n",
       "    </tr>\n",
       "  </thead>\n",
       "  <tbody>\n",
       "    <tr>\n",
       "      <th>0</th>\n",
       "      <td>0.44</td>\n",
       "      <td>Lyft</td>\n",
       "      <td>50927-08-08 02:11:30</td>\n",
       "      <td>North Station</td>\n",
       "      <td>Haymarket Square</td>\n",
       "      <td>5.0</td>\n",
       "      <td>1.0</td>\n",
       "      <td>424553bb-7174-41ea-aeb4-fe06d4f4b9d7</td>\n",
       "      <td>lyft_line</td>\n",
       "      <td>Shared</td>\n",
       "      <td>02:11:30</td>\n",
       "    </tr>\n",
       "    <tr>\n",
       "      <th>1</th>\n",
       "      <td>0.44</td>\n",
       "      <td>Lyft</td>\n",
       "      <td>50874-09-21 18:34:37</td>\n",
       "      <td>North Station</td>\n",
       "      <td>Haymarket Square</td>\n",
       "      <td>11.0</td>\n",
       "      <td>1.0</td>\n",
       "      <td>4bd23055-6827-41c6-b23b-3c491f24e74d</td>\n",
       "      <td>lyft_premier</td>\n",
       "      <td>Lux</td>\n",
       "      <td>18:34:37</td>\n",
       "    </tr>\n",
       "    <tr>\n",
       "      <th>2</th>\n",
       "      <td>0.44</td>\n",
       "      <td>Lyft</td>\n",
       "      <td>50877-05-07 02:09:58</td>\n",
       "      <td>North Station</td>\n",
       "      <td>Haymarket Square</td>\n",
       "      <td>7.0</td>\n",
       "      <td>1.0</td>\n",
       "      <td>981a3613-77af-4620-a42a-0c0866077d1e</td>\n",
       "      <td>lyft</td>\n",
       "      <td>Lyft</td>\n",
       "      <td>02:09:58</td>\n",
       "    </tr>\n",
       "    <tr>\n",
       "      <th>3</th>\n",
       "      <td>0.44</td>\n",
       "      <td>Lyft</td>\n",
       "      <td>50883-04-07 16:05:49</td>\n",
       "      <td>North Station</td>\n",
       "      <td>Haymarket Square</td>\n",
       "      <td>26.0</td>\n",
       "      <td>1.0</td>\n",
       "      <td>c2d88af2-d278-4bfd-a8d0-29ca77cc5512</td>\n",
       "      <td>lyft_luxsuv</td>\n",
       "      <td>Lux Black XL</td>\n",
       "      <td>16:05:49</td>\n",
       "    </tr>\n",
       "    <tr>\n",
       "      <th>4</th>\n",
       "      <td>0.44</td>\n",
       "      <td>Lyft</td>\n",
       "      <td>50880-05-28 10:17:03</td>\n",
       "      <td>North Station</td>\n",
       "      <td>Haymarket Square</td>\n",
       "      <td>9.0</td>\n",
       "      <td>1.0</td>\n",
       "      <td>e0126e1f-8ca9-4f2e-82b3-50505a09db9a</td>\n",
       "      <td>lyft_plus</td>\n",
       "      <td>Lyft XL</td>\n",
       "      <td>10:17:03</td>\n",
       "    </tr>\n",
       "    <tr>\n",
       "      <th>...</th>\n",
       "      <td>...</td>\n",
       "      <td>...</td>\n",
       "      <td>...</td>\n",
       "      <td>...</td>\n",
       "      <td>...</td>\n",
       "      <td>...</td>\n",
       "      <td>...</td>\n",
       "      <td>...</td>\n",
       "      <td>...</td>\n",
       "      <td>...</td>\n",
       "      <td>...</td>\n",
       "    </tr>\n",
       "    <tr>\n",
       "      <th>693042</th>\n",
       "      <td>3.11</td>\n",
       "      <td>Lyft</td>\n",
       "      <td>50880-02-03 09:07:03</td>\n",
       "      <td>Fenway</td>\n",
       "      <td>Theatre District</td>\n",
       "      <td>16.5</td>\n",
       "      <td>1.0</td>\n",
       "      <td>086e7cda-2b2d-4736-9d5f-0cd234e04e63</td>\n",
       "      <td>lyft_plus</td>\n",
       "      <td>Lyft XL</td>\n",
       "      <td>09:07:03</td>\n",
       "    </tr>\n",
       "    <tr>\n",
       "      <th>693043</th>\n",
       "      <td>3.11</td>\n",
       "      <td>Lyft</td>\n",
       "      <td>50880-02-03 09:07:03</td>\n",
       "      <td>Fenway</td>\n",
       "      <td>Theatre District</td>\n",
       "      <td>22.5</td>\n",
       "      <td>1.0</td>\n",
       "      <td>177a946d-c7c8-4334-a97a-a8a48efb1bc0</td>\n",
       "      <td>lyft_premier</td>\n",
       "      <td>Lux</td>\n",
       "      <td>09:07:03</td>\n",
       "    </tr>\n",
       "    <tr>\n",
       "      <th>693048</th>\n",
       "      <td>3.11</td>\n",
       "      <td>Lyft</td>\n",
       "      <td>50880-03-04 13:35:23</td>\n",
       "      <td>Fenway</td>\n",
       "      <td>Theatre District</td>\n",
       "      <td>7.0</td>\n",
       "      <td>1.0</td>\n",
       "      <td>871dc1be-d51e-4334-9217-1a6cd00d5058</td>\n",
       "      <td>lyft_line</td>\n",
       "      <td>Shared</td>\n",
       "      <td>13:35:23</td>\n",
       "    </tr>\n",
       "    <tr>\n",
       "      <th>693051</th>\n",
       "      <td>3.11</td>\n",
       "      <td>Lyft</td>\n",
       "      <td>50880-03-04 13:35:23</td>\n",
       "      <td>Fenway</td>\n",
       "      <td>Theatre District</td>\n",
       "      <td>10.5</td>\n",
       "      <td>1.0</td>\n",
       "      <td>aa4e5808-7357-49d3-b539-bd04d4815665</td>\n",
       "      <td>lyft</td>\n",
       "      <td>Lyft</td>\n",
       "      <td>13:35:23</td>\n",
       "    </tr>\n",
       "    <tr>\n",
       "      <th>693053</th>\n",
       "      <td>3.11</td>\n",
       "      <td>Lyft</td>\n",
       "      <td>50880-03-04 13:35:23</td>\n",
       "      <td>Fenway</td>\n",
       "      <td>Theatre District</td>\n",
       "      <td>32.5</td>\n",
       "      <td>1.0</td>\n",
       "      <td>ac039a91-1ca0-4210-b354-32c1e173213f</td>\n",
       "      <td>lyft_luxsuv</td>\n",
       "      <td>Lux Black XL</td>\n",
       "      <td>13:35:23</td>\n",
       "    </tr>\n",
       "  </tbody>\n",
       "</table>\n",
       "<p>307408 rows × 11 columns</p>\n",
       "</div>"
      ],
      "text/plain": [
       "        distance cab_type  ...          name      time\n",
       "0           0.44     Lyft  ...        Shared  02:11:30\n",
       "1           0.44     Lyft  ...           Lux  18:34:37\n",
       "2           0.44     Lyft  ...          Lyft  02:09:58\n",
       "3           0.44     Lyft  ...  Lux Black XL  16:05:49\n",
       "4           0.44     Lyft  ...       Lyft XL  10:17:03\n",
       "...          ...      ...  ...           ...       ...\n",
       "693042      3.11     Lyft  ...       Lyft XL  09:07:03\n",
       "693043      3.11     Lyft  ...           Lux  09:07:03\n",
       "693048      3.11     Lyft  ...        Shared  13:35:23\n",
       "693051      3.11     Lyft  ...          Lyft  13:35:23\n",
       "693053      3.11     Lyft  ...  Lux Black XL  13:35:23\n",
       "\n",
       "[307408 rows x 11 columns]"
      ]
     },
     "execution_count": 43,
     "metadata": {
      "tags": []
     },
     "output_type": "execute_result"
    }
   ],
   "source": [
    "lyft"
   ]
  },
  {
   "cell_type": "code",
   "execution_count": 44,
   "metadata": {
    "id": "NTzksZaKj595"
   },
   "outputs": [],
   "source": [
    "lyft['time'] = pd.to_datetime(lyft['time'])\n",
    "lyft['time']=lyft['time'].map(dt.datetime.toordinal)"
   ]
  },
  {
   "cell_type": "code",
   "execution_count": 45,
   "metadata": {
    "colab": {
     "base_uri": "https://localhost:8080/"
    },
    "id": "CrwESnQAk7E-",
    "outputId": "5c583916-201d-4000-f933-9af063af57ec"
   },
   "outputs": [
    {
     "data": {
      "text/plain": [
       "distance            0\n",
       "cab_type            0\n",
       "time_stamp          0\n",
       "destination         0\n",
       "source              0\n",
       "price               0\n",
       "surge_multiplier    0\n",
       "id                  0\n",
       "product_id          0\n",
       "name                0\n",
       "time                0\n",
       "dtype: int64"
      ]
     },
     "execution_count": 45,
     "metadata": {
      "tags": []
     },
     "output_type": "execute_result"
    }
   ],
   "source": [
    "lyft.isnull().sum()"
   ]
  },
  {
   "cell_type": "code",
   "execution_count": 46,
   "metadata": {
    "colab": {
     "base_uri": "https://localhost:8080/"
    },
    "id": "4u2FLmOqmKQJ",
    "outputId": "be64fcdc-f477-4f39-b7a0-6e183b3ba8c6"
   },
   "outputs": [
    {
     "data": {
      "text/plain": [
       "Index(['distance', 'cab_type', 'time_stamp', 'destination', 'source', 'price',\n",
       "       'surge_multiplier', 'id', 'product_id', 'name', 'time'],\n",
       "      dtype='object')"
      ]
     },
     "execution_count": 46,
     "metadata": {
      "tags": []
     },
     "output_type": "execute_result"
    }
   ],
   "source": [
    "lyft.columns"
   ]
  },
  {
   "cell_type": "code",
   "execution_count": 47,
   "metadata": {
    "id": "aRvhIbBNmScw"
   },
   "outputs": [],
   "source": [
    "x = lyft[['distance', 'cab_type', 'destination', 'source',\n",
    "       'surge_multiplier', 'name', 'time']]\n",
    "y = lyft.price"
   ]
  },
  {
   "cell_type": "code",
   "execution_count": 48,
   "metadata": {
    "id": "HBlp6xSVmeWw"
   },
   "outputs": [],
   "source": [
    "x = pd.get_dummies(x, columns = ['cab_type', 'destination', 'source', 'name'])"
   ]
  },
  {
   "cell_type": "code",
   "execution_count": 49,
   "metadata": {
    "colab": {
     "base_uri": "https://localhost:8080/",
     "height": 225
    },
    "id": "qk8cpw_8mg65",
    "outputId": "7d82c959-0542-4f4e-9745-41bf0f2ff00f"
   },
   "outputs": [
    {
     "data": {
      "text/html": [
       "<div>\n",
       "<style scoped>\n",
       "    .dataframe tbody tr th:only-of-type {\n",
       "        vertical-align: middle;\n",
       "    }\n",
       "\n",
       "    .dataframe tbody tr th {\n",
       "        vertical-align: top;\n",
       "    }\n",
       "\n",
       "    .dataframe thead th {\n",
       "        text-align: right;\n",
       "    }\n",
       "</style>\n",
       "<table border=\"1\" class=\"dataframe\">\n",
       "  <thead>\n",
       "    <tr style=\"text-align: right;\">\n",
       "      <th></th>\n",
       "      <th>distance</th>\n",
       "      <th>surge_multiplier</th>\n",
       "      <th>time</th>\n",
       "      <th>cab_type_Lyft</th>\n",
       "      <th>destination_Back Bay</th>\n",
       "      <th>destination_Beacon Hill</th>\n",
       "      <th>destination_Boston University</th>\n",
       "      <th>destination_Fenway</th>\n",
       "      <th>destination_Financial District</th>\n",
       "      <th>destination_Haymarket Square</th>\n",
       "      <th>destination_North End</th>\n",
       "      <th>destination_North Station</th>\n",
       "      <th>destination_Northeastern University</th>\n",
       "      <th>destination_South Station</th>\n",
       "      <th>destination_Theatre District</th>\n",
       "      <th>destination_West End</th>\n",
       "      <th>source_Back Bay</th>\n",
       "      <th>source_Beacon Hill</th>\n",
       "      <th>source_Boston University</th>\n",
       "      <th>source_Fenway</th>\n",
       "      <th>source_Financial District</th>\n",
       "      <th>source_Haymarket Square</th>\n",
       "      <th>source_North End</th>\n",
       "      <th>source_North Station</th>\n",
       "      <th>source_Northeastern University</th>\n",
       "      <th>source_South Station</th>\n",
       "      <th>source_Theatre District</th>\n",
       "      <th>source_West End</th>\n",
       "      <th>name_Lux</th>\n",
       "      <th>name_Lux Black</th>\n",
       "      <th>name_Lux Black XL</th>\n",
       "      <th>name_Lyft</th>\n",
       "      <th>name_Lyft XL</th>\n",
       "      <th>name_Shared</th>\n",
       "    </tr>\n",
       "  </thead>\n",
       "  <tbody>\n",
       "    <tr>\n",
       "      <th>0</th>\n",
       "      <td>0.44</td>\n",
       "      <td>1.0</td>\n",
       "      <td>737905</td>\n",
       "      <td>1</td>\n",
       "      <td>0</td>\n",
       "      <td>0</td>\n",
       "      <td>0</td>\n",
       "      <td>0</td>\n",
       "      <td>0</td>\n",
       "      <td>0</td>\n",
       "      <td>0</td>\n",
       "      <td>1</td>\n",
       "      <td>0</td>\n",
       "      <td>0</td>\n",
       "      <td>0</td>\n",
       "      <td>0</td>\n",
       "      <td>0</td>\n",
       "      <td>0</td>\n",
       "      <td>0</td>\n",
       "      <td>0</td>\n",
       "      <td>0</td>\n",
       "      <td>1</td>\n",
       "      <td>0</td>\n",
       "      <td>0</td>\n",
       "      <td>0</td>\n",
       "      <td>0</td>\n",
       "      <td>0</td>\n",
       "      <td>0</td>\n",
       "      <td>0</td>\n",
       "      <td>0</td>\n",
       "      <td>0</td>\n",
       "      <td>0</td>\n",
       "      <td>0</td>\n",
       "      <td>1</td>\n",
       "    </tr>\n",
       "    <tr>\n",
       "      <th>1</th>\n",
       "      <td>0.44</td>\n",
       "      <td>1.0</td>\n",
       "      <td>737905</td>\n",
       "      <td>1</td>\n",
       "      <td>0</td>\n",
       "      <td>0</td>\n",
       "      <td>0</td>\n",
       "      <td>0</td>\n",
       "      <td>0</td>\n",
       "      <td>0</td>\n",
       "      <td>0</td>\n",
       "      <td>1</td>\n",
       "      <td>0</td>\n",
       "      <td>0</td>\n",
       "      <td>0</td>\n",
       "      <td>0</td>\n",
       "      <td>0</td>\n",
       "      <td>0</td>\n",
       "      <td>0</td>\n",
       "      <td>0</td>\n",
       "      <td>0</td>\n",
       "      <td>1</td>\n",
       "      <td>0</td>\n",
       "      <td>0</td>\n",
       "      <td>0</td>\n",
       "      <td>0</td>\n",
       "      <td>0</td>\n",
       "      <td>0</td>\n",
       "      <td>1</td>\n",
       "      <td>0</td>\n",
       "      <td>0</td>\n",
       "      <td>0</td>\n",
       "      <td>0</td>\n",
       "      <td>0</td>\n",
       "    </tr>\n",
       "    <tr>\n",
       "      <th>2</th>\n",
       "      <td>0.44</td>\n",
       "      <td>1.0</td>\n",
       "      <td>737905</td>\n",
       "      <td>1</td>\n",
       "      <td>0</td>\n",
       "      <td>0</td>\n",
       "      <td>0</td>\n",
       "      <td>0</td>\n",
       "      <td>0</td>\n",
       "      <td>0</td>\n",
       "      <td>0</td>\n",
       "      <td>1</td>\n",
       "      <td>0</td>\n",
       "      <td>0</td>\n",
       "      <td>0</td>\n",
       "      <td>0</td>\n",
       "      <td>0</td>\n",
       "      <td>0</td>\n",
       "      <td>0</td>\n",
       "      <td>0</td>\n",
       "      <td>0</td>\n",
       "      <td>1</td>\n",
       "      <td>0</td>\n",
       "      <td>0</td>\n",
       "      <td>0</td>\n",
       "      <td>0</td>\n",
       "      <td>0</td>\n",
       "      <td>0</td>\n",
       "      <td>0</td>\n",
       "      <td>0</td>\n",
       "      <td>0</td>\n",
       "      <td>1</td>\n",
       "      <td>0</td>\n",
       "      <td>0</td>\n",
       "    </tr>\n",
       "    <tr>\n",
       "      <th>3</th>\n",
       "      <td>0.44</td>\n",
       "      <td>1.0</td>\n",
       "      <td>737905</td>\n",
       "      <td>1</td>\n",
       "      <td>0</td>\n",
       "      <td>0</td>\n",
       "      <td>0</td>\n",
       "      <td>0</td>\n",
       "      <td>0</td>\n",
       "      <td>0</td>\n",
       "      <td>0</td>\n",
       "      <td>1</td>\n",
       "      <td>0</td>\n",
       "      <td>0</td>\n",
       "      <td>0</td>\n",
       "      <td>0</td>\n",
       "      <td>0</td>\n",
       "      <td>0</td>\n",
       "      <td>0</td>\n",
       "      <td>0</td>\n",
       "      <td>0</td>\n",
       "      <td>1</td>\n",
       "      <td>0</td>\n",
       "      <td>0</td>\n",
       "      <td>0</td>\n",
       "      <td>0</td>\n",
       "      <td>0</td>\n",
       "      <td>0</td>\n",
       "      <td>0</td>\n",
       "      <td>0</td>\n",
       "      <td>1</td>\n",
       "      <td>0</td>\n",
       "      <td>0</td>\n",
       "      <td>0</td>\n",
       "    </tr>\n",
       "    <tr>\n",
       "      <th>4</th>\n",
       "      <td>0.44</td>\n",
       "      <td>1.0</td>\n",
       "      <td>737905</td>\n",
       "      <td>1</td>\n",
       "      <td>0</td>\n",
       "      <td>0</td>\n",
       "      <td>0</td>\n",
       "      <td>0</td>\n",
       "      <td>0</td>\n",
       "      <td>0</td>\n",
       "      <td>0</td>\n",
       "      <td>1</td>\n",
       "      <td>0</td>\n",
       "      <td>0</td>\n",
       "      <td>0</td>\n",
       "      <td>0</td>\n",
       "      <td>0</td>\n",
       "      <td>0</td>\n",
       "      <td>0</td>\n",
       "      <td>0</td>\n",
       "      <td>0</td>\n",
       "      <td>1</td>\n",
       "      <td>0</td>\n",
       "      <td>0</td>\n",
       "      <td>0</td>\n",
       "      <td>0</td>\n",
       "      <td>0</td>\n",
       "      <td>0</td>\n",
       "      <td>0</td>\n",
       "      <td>0</td>\n",
       "      <td>0</td>\n",
       "      <td>0</td>\n",
       "      <td>1</td>\n",
       "      <td>0</td>\n",
       "    </tr>\n",
       "  </tbody>\n",
       "</table>\n",
       "</div>"
      ],
      "text/plain": [
       "   distance  surge_multiplier    time  ...  name_Lyft  name_Lyft XL  name_Shared\n",
       "0      0.44               1.0  737905  ...          0             0            1\n",
       "1      0.44               1.0  737905  ...          0             0            0\n",
       "2      0.44               1.0  737905  ...          1             0            0\n",
       "3      0.44               1.0  737905  ...          0             0            0\n",
       "4      0.44               1.0  737905  ...          0             1            0\n",
       "\n",
       "[5 rows x 34 columns]"
      ]
     },
     "execution_count": 49,
     "metadata": {
      "tags": []
     },
     "output_type": "execute_result"
    }
   ],
   "source": [
    "x.head()"
   ]
  },
  {
   "cell_type": "code",
   "execution_count": 50,
   "metadata": {
    "colab": {
     "base_uri": "https://localhost:8080/"
    },
    "id": "Xn3kNeVVpch1",
    "outputId": "9789a706-fae5-428d-fd79-23f30da68a13"
   },
   "outputs": [
    {
     "name": "stdout",
     "output_type": "stream",
     "text": [
      "[16. 28.  4. ... 28. 20. 20.]\n"
     ]
    }
   ],
   "source": [
    "from sklearn.model_selection import train_test_split\n",
    "x_train, x_test, y_train, y_test = train_test_split(\n",
    "        x, y, test_size = 0.2, random_state = 0)\n",
    "from sklearn.linear_model import LinearRegression\n",
    "lm = LinearRegression()\n",
    "lm.fit(x_train, y_train)\n",
    "yhat = lm.predict(x_test)\n",
    "print(yhat)"
   ]
  },
  {
   "cell_type": "code",
   "execution_count": 51,
   "metadata": {
    "colab": {
     "base_uri": "https://localhost:8080/"
    },
    "id": "nU45Gllmpvok",
    "outputId": "da73e450-37f7-400a-adcb-cd5efc9752af"
   },
   "outputs": [
    {
     "data": {
      "text/plain": [
       "(307408, 11)"
      ]
     },
     "execution_count": 51,
     "metadata": {
      "tags": []
     },
     "output_type": "execute_result"
    }
   ],
   "source": [
    "lyft.shape"
   ]
  },
  {
   "cell_type": "code",
   "execution_count": 52,
   "metadata": {
    "colab": {
     "base_uri": "https://localhost:8080/"
    },
    "id": "ud_nx3LTpieN",
    "outputId": "73fe3e25-6948-4f90-ff55-c7c122c9c633"
   },
   "outputs": [
    {
     "name": "stdout",
     "output_type": "stream",
     "text": [
      "                            OLS Regression Results                            \n",
      "==============================================================================\n",
      "Dep. Variable:                  price   R-squared:                       0.938\n",
      "Model:                            OLS   Adj. R-squared:                  0.938\n",
      "Method:                 Least Squares   F-statistic:                 2.429e+05\n",
      "Date:                Sun, 25 Apr 2021   Prob (F-statistic):               0.00\n",
      "Time:                        19:19:44   Log-Likelihood:            -7.1832e+05\n",
      "No. Observations:              307408   AIC:                         1.437e+06\n",
      "Df Residuals:                  307388   BIC:                         1.437e+06\n",
      "Df Model:                          19                                         \n",
      "Covariance Type:            nonrobust                                         \n",
      "==============================================================================\n",
      "                 coef    std err          t      P>|t|      [0.025      0.975]\n",
      "------------------------------------------------------------------------------\n",
      "const      -5.411e-12   7.19e-14    -75.270      0.000   -5.55e-12   -5.27e-12\n",
      "x1             3.2773      0.005    719.055      0.000       3.268       3.286\n",
      "x2            18.2584      0.034    540.995      0.000      18.192      18.325\n",
      "x3         -3.993e-06    5.3e-08    -75.271      0.000    -4.1e-06   -3.89e-06\n",
      "x4         -5.415e-12   7.19e-14    -75.326      0.000   -5.56e-12   -5.27e-12\n",
      "x5            -0.3417      0.018    -18.831      0.000      -0.377      -0.306\n",
      "x6            -0.6986      0.018    -38.411      0.000      -0.734      -0.663\n",
      "x7             0.0191      0.017      1.119      0.263      -0.014       0.053\n",
      "x8            -0.0169      0.018     -0.930      0.352      -0.053       0.019\n",
      "x9            -0.2611      0.018    -14.378      0.000      -0.297      -0.226\n",
      "x10           -0.1193      0.019     -6.357      0.000      -0.156      -0.082\n",
      "x11           -0.7015      0.019    -37.740      0.000      -0.738      -0.665\n",
      "x12            0.0342      0.018      1.874      0.061      -0.002       0.070\n",
      "x13            0.3578      0.018     19.625      0.000       0.322       0.394\n",
      "x14            0.6356      0.018     36.008      0.000       0.601       0.670\n",
      "x15           -0.3416      0.019    -18.430      0.000      -0.378      -0.305\n",
      "x16            0.2739      0.018     14.819      0.000       0.238       0.310\n",
      "x17           -5.2912      0.016   -338.248      0.000      -5.322      -5.261\n",
      "x18            9.2616      0.016    592.059      0.000       9.231       9.292\n",
      "x19          -13.4674      0.016   -860.920      0.000     -13.498     -13.437\n",
      "x20           -7.7690      0.016   -496.639      0.000      -7.800      -7.738\n",
      "x21          -16.3539      0.016  -1042.087      0.000     -16.385     -16.323\n",
      "==============================================================================\n",
      "Omnibus:                    87718.386   Durbin-Watson:                   1.830\n",
      "Prob(Omnibus):                  0.000   Jarque-Bera (JB):          1631783.011\n",
      "Skew:                           0.903   Prob(JB):                         0.00\n",
      "Kurtosis:                      14.142   Cond. No.                     3.47e+23\n",
      "==============================================================================\n",
      "\n",
      "Warnings:\n",
      "[1] Standard Errors assume that the covariance matrix of the errors is correctly specified.\n",
      "[2] The smallest eigenvalue is 1.39e-30. This might indicate that there are\n",
      "strong multicollinearity problems or that the design matrix is singular.\n"
     ]
    }
   ],
   "source": [
    "x = np.append(arr = np.ones((307408, 1)).astype(int), \n",
    "              values = x, axis = 1)\n",
    "x_opt = x[:, [0, 1, 2, 3, 4, 5, 6, 13, 15, 16, 17, 18, 21, 22, 23, 24, 27, 29, 31, 32, 33, 34]]\n",
    "ols = sm.OLS(endog = y, exog = x_opt).fit()\n",
    "print(ols.summary())"
   ]
  },
  {
   "cell_type": "code",
   "execution_count": 53,
   "metadata": {
    "id": "o6Jm3yoKpuUs"
   },
   "outputs": [],
   "source": [
    "x_opt = x[:, [0, 1, 2, 3, 4, 5, 6, 13, 15, 16, 17, 18, 21, 22, 23, 24, 27, 29, 31, 32, 33, 34]]\n"
   ]
  },
  {
   "cell_type": "code",
   "execution_count": 54,
   "metadata": {
    "colab": {
     "base_uri": "https://localhost:8080/"
    },
    "id": "JJJg2V2UqnJh",
    "outputId": "d39e5ac8-8867-4c6c-92dc-f9f0ca13c79f"
   },
   "outputs": [
    {
     "name": "stdout",
     "output_type": "stream",
     "text": [
      "RMSE: 2.506667996922247\n",
      "R2 Score: 0.9374988084368103\n"
     ]
    }
   ],
   "source": [
    "#redo multiple regression with x_opt\n",
    "x_train, x_test, y_train, y_test = train_test_split(\n",
    "        x_opt, y, test_size = 0.3, random_state = 0)\n",
    "from sklearn.linear_model import LinearRegression\n",
    "lm = LinearRegression()\n",
    "lm.fit(x_train, y_train)\n",
    "yhat = lm.predict(x_test)\n",
    "\n",
    "#use mean squared error as metric\n",
    "from sklearn.metrics import mean_squared_error, r2_score\n",
    "print(\"RMSE: \" + str(mean_squared_error(y_test, yhat, squared = False)))\n",
    "\n",
    "\n",
    "#use r2_score\n",
    "print(\"R2 Score: \" + str(r2_score(y_test, yhat)))"
   ]
  },
  {
   "cell_type": "markdown",
   "metadata": {
    "id": "yoRaihXueuC9"
   },
   "source": [
    "Multiple Regression - Taxi"
   ]
  },
  {
   "cell_type": "code",
   "execution_count": 55,
   "metadata": {
    "colab": {
     "base_uri": "https://localhost:8080/",
     "height": 423
    },
    "id": "Q8dXP5dDevTl",
    "outputId": "3f510ad2-b6d5-441a-a455-67633e9143a2"
   },
   "outputs": [
    {
     "data": {
      "text/html": [
       "<div>\n",
       "<style scoped>\n",
       "    .dataframe tbody tr th:only-of-type {\n",
       "        vertical-align: middle;\n",
       "    }\n",
       "\n",
       "    .dataframe tbody tr th {\n",
       "        vertical-align: top;\n",
       "    }\n",
       "\n",
       "    .dataframe thead th {\n",
       "        text-align: right;\n",
       "    }\n",
       "</style>\n",
       "<table border=\"1\" class=\"dataframe\">\n",
       "  <thead>\n",
       "    <tr style=\"text-align: right;\">\n",
       "      <th></th>\n",
       "      <th>key</th>\n",
       "      <th>fare_amount</th>\n",
       "      <th>pickup_datetime</th>\n",
       "      <th>pickup_longitude</th>\n",
       "      <th>pickup_latitude</th>\n",
       "      <th>dropoff_longitude</th>\n",
       "      <th>dropoff_latitude</th>\n",
       "      <th>passenger_count</th>\n",
       "      <th>combined</th>\n",
       "      <th>distance</th>\n",
       "    </tr>\n",
       "  </thead>\n",
       "  <tbody>\n",
       "    <tr>\n",
       "      <th>0</th>\n",
       "      <td>2009-06-15 17:26:21.0000001</td>\n",
       "      <td>4.5</td>\n",
       "      <td>2009-06-15 17:26:21 UTC</td>\n",
       "      <td>-73.844311</td>\n",
       "      <td>40.721319</td>\n",
       "      <td>-73.841610</td>\n",
       "      <td>40.712278</td>\n",
       "      <td>1</td>\n",
       "      <td>[40.721319, -73.844311, 40.712278000000005, -7...</td>\n",
       "      <td>1.03</td>\n",
       "    </tr>\n",
       "    <tr>\n",
       "      <th>1</th>\n",
       "      <td>2010-01-05 16:52:16.0000002</td>\n",
       "      <td>16.9</td>\n",
       "      <td>2010-01-05 16:52:16 UTC</td>\n",
       "      <td>-74.016048</td>\n",
       "      <td>40.711303</td>\n",
       "      <td>-73.979268</td>\n",
       "      <td>40.782004</td>\n",
       "      <td>1</td>\n",
       "      <td>[40.711303, -74.016048, 40.782004, -73.979268]</td>\n",
       "      <td>8.45</td>\n",
       "    </tr>\n",
       "    <tr>\n",
       "      <th>2</th>\n",
       "      <td>2011-08-18 00:35:00.00000049</td>\n",
       "      <td>5.7</td>\n",
       "      <td>2011-08-18 00:35:00 UTC</td>\n",
       "      <td>-73.982738</td>\n",
       "      <td>40.761270</td>\n",
       "      <td>-73.991242</td>\n",
       "      <td>40.750562</td>\n",
       "      <td>2</td>\n",
       "      <td>[40.76127, -73.982738, 40.750562, -73.991242]</td>\n",
       "      <td>1.39</td>\n",
       "    </tr>\n",
       "    <tr>\n",
       "      <th>3</th>\n",
       "      <td>2012-04-21 04:30:42.0000001</td>\n",
       "      <td>7.7</td>\n",
       "      <td>2012-04-21 04:30:42 UTC</td>\n",
       "      <td>-73.987130</td>\n",
       "      <td>40.733143</td>\n",
       "      <td>-73.991567</td>\n",
       "      <td>40.758092</td>\n",
       "      <td>1</td>\n",
       "      <td>[40.733143, -73.98713000000001, 40.758092, -73...</td>\n",
       "      <td>2.80</td>\n",
       "    </tr>\n",
       "    <tr>\n",
       "      <th>4</th>\n",
       "      <td>2010-03-09 07:51:00.000000135</td>\n",
       "      <td>5.3</td>\n",
       "      <td>2010-03-09 07:51:00 UTC</td>\n",
       "      <td>-73.968095</td>\n",
       "      <td>40.768008</td>\n",
       "      <td>-73.956655</td>\n",
       "      <td>40.783762</td>\n",
       "      <td>1</td>\n",
       "      <td>[40.768008, -73.96809499999999, 40.783762, -73...</td>\n",
       "      <td>2.00</td>\n",
       "    </tr>\n",
       "  </tbody>\n",
       "</table>\n",
       "</div>"
      ],
      "text/plain": [
       "                             key  ...  distance\n",
       "0    2009-06-15 17:26:21.0000001  ...      1.03\n",
       "1    2010-01-05 16:52:16.0000002  ...      8.45\n",
       "2   2011-08-18 00:35:00.00000049  ...      1.39\n",
       "3    2012-04-21 04:30:42.0000001  ...      2.80\n",
       "4  2010-03-09 07:51:00.000000135  ...      2.00\n",
       "\n",
       "[5 rows x 10 columns]"
      ]
     },
     "execution_count": 55,
     "metadata": {
      "tags": []
     },
     "output_type": "execute_result"
    }
   ],
   "source": [
    "taxi.head()"
   ]
  },
  {
   "cell_type": "code",
   "execution_count": 66,
   "metadata": {
    "colab": {
     "base_uri": "https://localhost:8080/",
     "height": 36
    },
    "id": "33orGEkkjJEn",
    "outputId": "e362eaf9-be47-4bf1-d3e9-c00cbcab3e36"
   },
   "outputs": [
    {
     "data": {
      "application/vnd.google.colaboratory.intrinsic+json": {
       "type": "string"
      },
      "text/plain": [
       "'17:26:21'"
      ]
     },
     "execution_count": 66,
     "metadata": {
      "tags": []
     },
     "output_type": "execute_result"
    }
   ],
   "source": [
    "str = '2009-06-15 17:26:21 UTC'\n",
    "newstr = str.split(' ')\n",
    "final = newstr[1]\n",
    "final"
   ]
  },
  {
   "cell_type": "code",
   "execution_count": 67,
   "metadata": {
    "colab": {
     "base_uri": "https://localhost:8080/"
    },
    "id": "2hiBLewyizSk",
    "outputId": "2b7f3427-afda-422f-f3a0-81441163906b"
   },
   "outputs": [
    {
     "data": {
      "text/plain": [
       "0         17:26:21\n",
       "1         16:52:16\n",
       "2         00:35:00\n",
       "3         04:30:42\n",
       "4         07:51:00\n",
       "            ...   \n",
       "693065    12:03:21\n",
       "693066    11:46:20\n",
       "693067    10:29:16\n",
       "693068    12:58:42\n",
       "693069    18:45:42\n",
       "Name: time, Length: 693070, dtype: object"
      ]
     },
     "execution_count": 67,
     "metadata": {
      "tags": []
     },
     "output_type": "execute_result"
    }
   ],
   "source": [
    "taxi['timesplit'] = taxi['pickup_datetime'].map(lambda x: x.split(' '))\n",
    "taxi['time'] = taxi['timesplit'].map(lambda x: x[1])\n",
    "taxi.time\n"
   ]
  },
  {
   "cell_type": "code",
   "execution_count": 68,
   "metadata": {
    "colab": {
     "base_uri": "https://localhost:8080/"
    },
    "id": "nWvJUzKDhwHL",
    "outputId": "10ed3a5f-3120-4fe6-c95b-35bf1d4c82b3"
   },
   "outputs": [
    {
     "data": {
      "text/plain": [
       "(693070, 12)"
      ]
     },
     "execution_count": 68,
     "metadata": {
      "tags": []
     },
     "output_type": "execute_result"
    }
   ],
   "source": [
    "taxi.shape"
   ]
  },
  {
   "cell_type": "code",
   "execution_count": 69,
   "metadata": {
    "colab": {
     "base_uri": "https://localhost:8080/"
    },
    "id": "M7qCjme1h2Pl",
    "outputId": "7aae6c7e-c16d-4686-eb0a-0904cedb269d"
   },
   "outputs": [
    {
     "data": {
      "text/plain": [
       "key                  0\n",
       "fare_amount          0\n",
       "pickup_datetime      0\n",
       "pickup_longitude     0\n",
       "pickup_latitude      0\n",
       "dropoff_longitude    0\n",
       "dropoff_latitude     0\n",
       "passenger_count      0\n",
       "combined             0\n",
       "distance             0\n",
       "timesplit            0\n",
       "time                 0\n",
       "dtype: int64"
      ]
     },
     "execution_count": 69,
     "metadata": {
      "tags": []
     },
     "output_type": "execute_result"
    }
   ],
   "source": [
    "taxi.isnull().sum()"
   ]
  },
  {
   "cell_type": "code",
   "execution_count": 70,
   "metadata": {
    "id": "6XVdpv-Fh3yg"
   },
   "outputs": [],
   "source": [
    "taxi.dropoff_longitude = taxi.dropoff_longitude.fillna(taxi.dropoff_longitude.mean())"
   ]
  },
  {
   "cell_type": "code",
   "execution_count": 71,
   "metadata": {
    "id": "szK2XPeDiPUc"
   },
   "outputs": [],
   "source": [
    "taxi.dropoff_latitude = taxi.dropoff_latitude.fillna(taxi.dropoff_latitude.mean())"
   ]
  },
  {
   "cell_type": "code",
   "execution_count": 72,
   "metadata": {
    "id": "axWU3pzhiVLD"
   },
   "outputs": [],
   "source": [
    "taxi.distance = taxi.distance.fillna(taxi.distance.mean())"
   ]
  },
  {
   "cell_type": "code",
   "execution_count": 73,
   "metadata": {
    "colab": {
     "base_uri": "https://localhost:8080/"
    },
    "id": "7-zsjfUGiZnm",
    "outputId": "5cab695b-727b-4315-ffbc-87ea4dbd2411"
   },
   "outputs": [
    {
     "data": {
      "text/plain": [
       "Index(['key', 'fare_amount', 'pickup_datetime', 'pickup_longitude',\n",
       "       'pickup_latitude', 'dropoff_longitude', 'dropoff_latitude',\n",
       "       'passenger_count', 'combined', 'distance', 'timesplit', 'time'],\n",
       "      dtype='object')"
      ]
     },
     "execution_count": 73,
     "metadata": {
      "tags": []
     },
     "output_type": "execute_result"
    }
   ],
   "source": [
    "taxi.columns"
   ]
  },
  {
   "cell_type": "code",
   "execution_count": 77,
   "metadata": {
    "id": "VWNHN3naidCK"
   },
   "outputs": [],
   "source": [
    "x = taxi[[\n",
    "       'passenger_count', 'distance', 'time']]\n",
    "y = taxi['fare_amount']"
   ]
  },
  {
   "cell_type": "code",
   "execution_count": 78,
   "metadata": {
    "colab": {
     "base_uri": "https://localhost:8080/",
     "height": 189
    },
    "id": "ysUXw962ioi8",
    "outputId": "3c35d27e-cbc2-432f-a111-2801a7cc3ce0"
   },
   "outputs": [
    {
     "data": {
      "text/html": [
       "<div>\n",
       "<style scoped>\n",
       "    .dataframe tbody tr th:only-of-type {\n",
       "        vertical-align: middle;\n",
       "    }\n",
       "\n",
       "    .dataframe tbody tr th {\n",
       "        vertical-align: top;\n",
       "    }\n",
       "\n",
       "    .dataframe thead th {\n",
       "        text-align: right;\n",
       "    }\n",
       "</style>\n",
       "<table border=\"1\" class=\"dataframe\">\n",
       "  <thead>\n",
       "    <tr style=\"text-align: right;\">\n",
       "      <th></th>\n",
       "      <th>passenger_count</th>\n",
       "      <th>distance</th>\n",
       "      <th>time</th>\n",
       "    </tr>\n",
       "  </thead>\n",
       "  <tbody>\n",
       "    <tr>\n",
       "      <th>0</th>\n",
       "      <td>1</td>\n",
       "      <td>1.03</td>\n",
       "      <td>17:26:21</td>\n",
       "    </tr>\n",
       "    <tr>\n",
       "      <th>1</th>\n",
       "      <td>1</td>\n",
       "      <td>8.45</td>\n",
       "      <td>16:52:16</td>\n",
       "    </tr>\n",
       "    <tr>\n",
       "      <th>2</th>\n",
       "      <td>2</td>\n",
       "      <td>1.39</td>\n",
       "      <td>00:35:00</td>\n",
       "    </tr>\n",
       "    <tr>\n",
       "      <th>3</th>\n",
       "      <td>1</td>\n",
       "      <td>2.80</td>\n",
       "      <td>04:30:42</td>\n",
       "    </tr>\n",
       "    <tr>\n",
       "      <th>4</th>\n",
       "      <td>1</td>\n",
       "      <td>2.00</td>\n",
       "      <td>07:51:00</td>\n",
       "    </tr>\n",
       "  </tbody>\n",
       "</table>\n",
       "</div>"
      ],
      "text/plain": [
       "   passenger_count  distance      time\n",
       "0                1      1.03  17:26:21\n",
       "1                1      8.45  16:52:16\n",
       "2                2      1.39  00:35:00\n",
       "3                1      2.80  04:30:42\n",
       "4                1      2.00  07:51:00"
      ]
     },
     "execution_count": 78,
     "metadata": {
      "tags": []
     },
     "output_type": "execute_result"
    }
   ],
   "source": [
    "x.head()"
   ]
  },
  {
   "cell_type": "code",
   "execution_count": 79,
   "metadata": {
    "colab": {
     "base_uri": "https://localhost:8080/"
    },
    "id": "vZU4kMT4kHRA",
    "outputId": "4ea63cc8-59a4-490a-baf8-3735a0ed1d0e"
   },
   "outputs": [
    {
     "name": "stderr",
     "output_type": "stream",
     "text": [
      "/usr/local/lib/python3.7/dist-packages/pandas/core/generic.py:5170: SettingWithCopyWarning:\n",
      "\n",
      "\n",
      "A value is trying to be set on a copy of a slice from a DataFrame.\n",
      "Try using .loc[row_indexer,col_indexer] = value instead\n",
      "\n",
      "See the caveats in the documentation: https://pandas.pydata.org/pandas-docs/stable/user_guide/indexing.html#returning-a-view-versus-a-copy\n",
      "\n"
     ]
    }
   ],
   "source": [
    "\n",
    "x.time = pd.to_datetime(x.time)\n",
    "x.time = x.time.map(dt.datetime.toordinal)"
   ]
  },
  {
   "cell_type": "code",
   "execution_count": 80,
   "metadata": {
    "colab": {
     "base_uri": "https://localhost:8080/",
     "height": 189
    },
    "id": "lu3iNazfkXND",
    "outputId": "302d09ef-d3ea-48a2-afe3-bdd4f4457884"
   },
   "outputs": [
    {
     "data": {
      "text/html": [
       "<div>\n",
       "<style scoped>\n",
       "    .dataframe tbody tr th:only-of-type {\n",
       "        vertical-align: middle;\n",
       "    }\n",
       "\n",
       "    .dataframe tbody tr th {\n",
       "        vertical-align: top;\n",
       "    }\n",
       "\n",
       "    .dataframe thead th {\n",
       "        text-align: right;\n",
       "    }\n",
       "</style>\n",
       "<table border=\"1\" class=\"dataframe\">\n",
       "  <thead>\n",
       "    <tr style=\"text-align: right;\">\n",
       "      <th></th>\n",
       "      <th>passenger_count</th>\n",
       "      <th>distance</th>\n",
       "      <th>time</th>\n",
       "    </tr>\n",
       "  </thead>\n",
       "  <tbody>\n",
       "    <tr>\n",
       "      <th>0</th>\n",
       "      <td>1</td>\n",
       "      <td>1.03</td>\n",
       "      <td>737905</td>\n",
       "    </tr>\n",
       "    <tr>\n",
       "      <th>1</th>\n",
       "      <td>1</td>\n",
       "      <td>8.45</td>\n",
       "      <td>737905</td>\n",
       "    </tr>\n",
       "    <tr>\n",
       "      <th>2</th>\n",
       "      <td>2</td>\n",
       "      <td>1.39</td>\n",
       "      <td>737905</td>\n",
       "    </tr>\n",
       "    <tr>\n",
       "      <th>3</th>\n",
       "      <td>1</td>\n",
       "      <td>2.80</td>\n",
       "      <td>737905</td>\n",
       "    </tr>\n",
       "    <tr>\n",
       "      <th>4</th>\n",
       "      <td>1</td>\n",
       "      <td>2.00</td>\n",
       "      <td>737905</td>\n",
       "    </tr>\n",
       "  </tbody>\n",
       "</table>\n",
       "</div>"
      ],
      "text/plain": [
       "   passenger_count  distance    time\n",
       "0                1      1.03  737905\n",
       "1                1      8.45  737905\n",
       "2                2      1.39  737905\n",
       "3                1      2.80  737905\n",
       "4                1      2.00  737905"
      ]
     },
     "execution_count": 80,
     "metadata": {
      "tags": []
     },
     "output_type": "execute_result"
    }
   ],
   "source": [
    "x.head()"
   ]
  },
  {
   "cell_type": "code",
   "execution_count": null,
   "metadata": {
    "id": "YspWKQHwk9nj"
   },
   "outputs": [],
   "source": [
    "from sklearn.model_selection import train_test_split\n",
    "x_train, x_test, y_train, y_test = train_test_split(\n",
    "        x, y, test_size = 0.3, random_state = 0)\n",
    "from sklearn.linear_model import LinearRegression\n",
    "lm = LinearRegression()\n",
    "lm.fit(x_train, y_train)\n",
    "yhat = lm.predict(x_test)\n",
    "print(yhat)"
   ]
  },
  {
   "cell_type": "code",
   "execution_count": 86,
   "metadata": {
    "colab": {
     "base_uri": "https://localhost:8080/"
    },
    "id": "KQvmCLk-lQyk",
    "outputId": "bacc99a1-0133-4f4b-eb3b-b8a0df4999d4"
   },
   "outputs": [
    {
     "data": {
      "text/plain": [
       "(693070, 4)"
      ]
     },
     "execution_count": 86,
     "metadata": {
      "tags": []
     },
     "output_type": "execute_result"
    }
   ],
   "source": [
    "x.shape"
   ]
  },
  {
   "cell_type": "code",
   "execution_count": 87,
   "metadata": {
    "colab": {
     "base_uri": "https://localhost:8080/"
    },
    "id": "PGgRk54MlEc9",
    "outputId": "5f0cad9c-38b1-4858-d853-9b18168d17ee"
   },
   "outputs": [
    {
     "name": "stdout",
     "output_type": "stream",
     "text": [
      "                            OLS Regression Results                            \n",
      "==============================================================================\n",
      "Dep. Variable:            fare_amount   R-squared:                       0.001\n",
      "Model:                            OLS   Adj. R-squared:                  0.001\n",
      "Method:                 Least Squares   F-statistic:                     320.8\n",
      "Date:                Sun, 25 Apr 2021   Prob (F-statistic):          5.27e-140\n",
      "Time:                        19:50:30   Log-Likelihood:            -2.5688e+06\n",
      "No. Observations:              693070   AIC:                         5.138e+06\n",
      "Df Residuals:                  693067   BIC:                         5.138e+06\n",
      "Df Model:                           2                                         \n",
      "Covariance Type:            nonrobust                                         \n",
      "==============================================================================\n",
      "                 coef    std err          t      P>|t|      [0.025      0.975]\n",
      "------------------------------------------------------------------------------\n",
      "const       2.049e-11   3.55e-14    577.968      0.000    2.04e-11    2.06e-11\n",
      "x1          2.049e-11   3.55e-14    577.968      0.000    2.04e-11    2.06e-11\n",
      "x2             0.1051      0.009     11.613      0.000       0.087       0.123\n",
      "x3             0.0007   3.26e-05     22.513      0.000       0.001       0.001\n",
      "x4          1.512e-05   2.62e-08    577.973      0.000    1.51e-05    1.52e-05\n",
      "==============================================================================\n",
      "Omnibus:                   700359.698   Durbin-Watson:                   1.996\n",
      "Prob(Omnibus):                  0.000   Jarque-Bera (JB):        137475895.376\n",
      "Skew:                           4.572   Prob(JB):                         0.00\n",
      "Kurtosis:                      71.389   Cond. No.                     1.63e+35\n",
      "==============================================================================\n",
      "\n",
      "Warnings:\n",
      "[1] Standard Errors assume that the covariance matrix of the errors is correctly specified.\n",
      "[2] The smallest eigenvalue is 1.42e-53. This might indicate that there are\n",
      "strong multicollinearity problems or that the design matrix is singular.\n"
     ]
    }
   ],
   "source": [
    "x = np.append(arr = np.ones((693070, 1)).astype(int), \n",
    "              values = x, axis = 1)\n",
    "x_opt = x[:, [0, 1, 2, 3, 4]]\n",
    "ols = sm.OLS(endog = y, exog = x_opt).fit()\n",
    "print(ols.summary())"
   ]
  },
  {
   "cell_type": "code",
   "execution_count": 88,
   "metadata": {
    "id": "0t-9aHxqlE4U"
   },
   "outputs": [],
   "source": [
    "#we can include all variables that were already accounted for given their p-values are less than .005"
   ]
  },
  {
   "cell_type": "code",
   "execution_count": 102,
   "metadata": {
    "colab": {
     "base_uri": "https://localhost:8080/"
    },
    "id": "8O2oaoD_lgnS",
    "outputId": "ec580883-9875-4704-966b-6e3704982178"
   },
   "outputs": [
    {
     "name": "stdout",
     "output_type": "stream",
     "text": [
      "RMSE: 9.871011464387049\n",
      "R2: 0.001126277868646497\n"
     ]
    }
   ],
   "source": [
    "# print(\"RMSE: \" + str(mean_squared_error(y_test, yhat, squared = False)))\n",
    "\n",
    "\n",
    "# #use r2_score\n",
    "# print(\"R2 Score: \" + str(r2_score(y_test, yhat)))\n",
    "\n",
    "\n",
    "taxi_rmse = mean_squared_error(y_test, yhat, squared = False)\n",
    "taxi_r2 = r2_score(y_test, yhat)\n",
    "print\n",
    "print(\"RMSE: 9.871011464387049\" )\n",
    "print(\"R2: 0.001126277868646497\")"
   ]
  },
  {
   "cell_type": "code",
   "execution_count": 100,
   "metadata": {
    "colab": {
     "base_uri": "https://localhost:8080/"
    },
    "id": "0HAf6JHvlkmu",
    "outputId": "00516c77-1bca-4da8-db07-117e19eb9702"
   },
   "outputs": [
    {
     "data": {
      "text/plain": [
       "9.871011464387049"
      ]
     },
     "execution_count": 100,
     "metadata": {
      "tags": []
     },
     "output_type": "execute_result"
    }
   ],
   "source": [
    "taxi_rmse"
   ]
  },
  {
   "cell_type": "code",
   "execution_count": 101,
   "metadata": {
    "colab": {
     "base_uri": "https://localhost:8080/"
    },
    "id": "0UbCAfH9mr8A",
    "outputId": "9ecc27c1-b15a-4138-cd4e-76ded3f8c9a0"
   },
   "outputs": [
    {
     "data": {
      "text/plain": [
       "0.001126277868646497"
      ]
     },
     "execution_count": 101,
     "metadata": {
      "tags": []
     },
     "output_type": "execute_result"
    }
   ],
   "source": [
    "taxi_r2"
   ]
  },
  {
   "cell_type": "code",
   "execution_count": null,
   "metadata": {
    "id": "27PtoCkemwHM"
   },
   "outputs": [],
   "source": []
  }
 ],
 "metadata": {
  "colab": {
   "collapsed_sections": [],
   "name": "PIP_Multiple_Regression",
   "provenance": []
  },
  "kernelspec": {
   "display_name": "Python 3",
   "language": "python",
   "name": "python3"
  },
  "language_info": {
   "codemirror_mode": {
    "name": "ipython",
    "version": 3
   },
   "file_extension": ".py",
   "mimetype": "text/x-python",
   "name": "python",
   "nbconvert_exporter": "python",
   "pygments_lexer": "ipython3",
   "version": "3.8.5"
  }
 },
 "nbformat": 4,
 "nbformat_minor": 1
}
