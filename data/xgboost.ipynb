{
 "cells": [
  {
   "cell_type": "code",
   "execution_count": null,
   "metadata": {},
   "outputs": [],
   "source": [
    "!pip install xgboost"
   ]
  },
  {
   "cell_type": "code",
   "execution_count": 1,
   "metadata": {},
   "outputs": [],
   "source": [
    "from pandas import read_csv, DataFrame, to_datetime\n",
    "from numpy import radians, sin, cos, arcsin, sqrt, mean\n",
    "from sklearn import ensemble\n",
    "import time\n",
    "from datetime import datetime\n",
    "import xgboost as xgb\n",
    "import pymongo\n",
    "import dns\n",
    "import pandas as pd"
   ]
  },
  {
   "cell_type": "code",
   "execution_count": null,
   "metadata": {},
   "outputs": [],
   "source": [
    "ATLAS_URL = \"\"#dont commit ATLAS URI"
   ]
  },
  {
   "cell_type": "code",
   "execution_count": 3,
   "metadata": {},
   "outputs": [],
   "source": [
    "client = pymongo.MongoClient(ATLAS_URI)"
   ]
  },
  {
   "cell_type": "code",
   "execution_count": 4,
   "metadata": {},
   "outputs": [],
   "source": [
    "db = client['ProjectsinProgramming']"
   ]
  },
  {
   "cell_type": "code",
   "execution_count": 5,
   "metadata": {},
   "outputs": [],
   "source": [
    "yellowTaxiTable = db['YellowTaxi']\n",
    "yellowTaxiTestTable = db['YellowTaxiTest']\n"
   ]
  },
  {
   "cell_type": "markdown",
   "metadata": {},
   "source": [
    "### Train XGBoost for Yellow Taxi"
   ]
  },
  {
   "cell_type": "code",
   "execution_count": 6,
   "metadata": {},
   "outputs": [],
   "source": [
    "train = pd.DataFrame(list(yellowTaxiTable.find()))\n",
    "test= pd.DataFrame(list(yellowTaxiTestTable.find()))"
   ]
  },
  {
   "cell_type": "code",
   "execution_count": 7,
   "metadata": {},
   "outputs": [
    {
     "data": {
      "text/html": [
       "<div>\n",
       "<style scoped>\n",
       "    .dataframe tbody tr th:only-of-type {\n",
       "        vertical-align: middle;\n",
       "    }\n",
       "\n",
       "    .dataframe tbody tr th {\n",
       "        vertical-align: top;\n",
       "    }\n",
       "\n",
       "    .dataframe thead th {\n",
       "        text-align: right;\n",
       "    }\n",
       "</style>\n",
       "<table border=\"1\" class=\"dataframe\">\n",
       "  <thead>\n",
       "    <tr style=\"text-align: right;\">\n",
       "      <th></th>\n",
       "      <th>_id</th>\n",
       "      <th>key</th>\n",
       "      <th>fare_amount</th>\n",
       "      <th>pickup_datetime</th>\n",
       "      <th>passenger_count</th>\n",
       "      <th>distance</th>\n",
       "    </tr>\n",
       "  </thead>\n",
       "  <tbody>\n",
       "    <tr>\n",
       "      <th>0</th>\n",
       "      <td>608328c055a7bf9dfb58cd9a</td>\n",
       "      <td>2009-06-15 17:26:21.0000001</td>\n",
       "      <td>4.5</td>\n",
       "      <td>2009-06-15 17:26:21</td>\n",
       "      <td>1</td>\n",
       "      <td>1.03</td>\n",
       "    </tr>\n",
       "    <tr>\n",
       "      <th>1</th>\n",
       "      <td>608328c055a7bf9dfb58cd9b</td>\n",
       "      <td>2010-01-05 16:52:16.0000002</td>\n",
       "      <td>16.9</td>\n",
       "      <td>2010-01-05 16:52:16</td>\n",
       "      <td>1</td>\n",
       "      <td>8.45</td>\n",
       "    </tr>\n",
       "    <tr>\n",
       "      <th>2</th>\n",
       "      <td>608328c055a7bf9dfb58cd9c</td>\n",
       "      <td>2011-08-18 00:35:00.00000049</td>\n",
       "      <td>5.7</td>\n",
       "      <td>2011-08-18 00:35:00</td>\n",
       "      <td>2</td>\n",
       "      <td>1.39</td>\n",
       "    </tr>\n",
       "    <tr>\n",
       "      <th>3</th>\n",
       "      <td>608328c055a7bf9dfb58cd9d</td>\n",
       "      <td>2012-04-21 04:30:42.0000001</td>\n",
       "      <td>7.7</td>\n",
       "      <td>2012-04-21 04:30:42</td>\n",
       "      <td>1</td>\n",
       "      <td>2.80</td>\n",
       "    </tr>\n",
       "    <tr>\n",
       "      <th>4</th>\n",
       "      <td>608328c055a7bf9dfb58cd9e</td>\n",
       "      <td>2010-03-09 07:51:00.000000135</td>\n",
       "      <td>5.3</td>\n",
       "      <td>2010-03-09 07:51:00</td>\n",
       "      <td>1</td>\n",
       "      <td>2.00</td>\n",
       "    </tr>\n",
       "    <tr>\n",
       "      <th>...</th>\n",
       "      <td>...</td>\n",
       "      <td>...</td>\n",
       "      <td>...</td>\n",
       "      <td>...</td>\n",
       "      <td>...</td>\n",
       "      <td>...</td>\n",
       "    </tr>\n",
       "    <tr>\n",
       "      <th>693065</th>\n",
       "      <td>60832b2355a7bf9dfb6360e3</td>\n",
       "      <td>2010-02-12 12:03:21.0000003</td>\n",
       "      <td>9.7</td>\n",
       "      <td>2010-02-12 12:03:21</td>\n",
       "      <td>1</td>\n",
       "      <td>3.23</td>\n",
       "    </tr>\n",
       "    <tr>\n",
       "      <th>693066</th>\n",
       "      <td>60832b2355a7bf9dfb6360e4</td>\n",
       "      <td>2011-07-22 11:46:20.0000002</td>\n",
       "      <td>23.7</td>\n",
       "      <td>2011-07-22 11:46:20</td>\n",
       "      <td>4</td>\n",
       "      <td>12.73</td>\n",
       "    </tr>\n",
       "    <tr>\n",
       "      <th>693067</th>\n",
       "      <td>60832b2355a7bf9dfb6360e5</td>\n",
       "      <td>2011-09-07 10:29:16.0000002</td>\n",
       "      <td>4.5</td>\n",
       "      <td>2011-09-07 10:29:16</td>\n",
       "      <td>1</td>\n",
       "      <td>0.32</td>\n",
       "    </tr>\n",
       "    <tr>\n",
       "      <th>693068</th>\n",
       "      <td>60832b2355a7bf9dfb6360e6</td>\n",
       "      <td>2009-10-12 12:58:42.0000003</td>\n",
       "      <td>6.5</td>\n",
       "      <td>2009-10-12 12:58:42</td>\n",
       "      <td>1</td>\n",
       "      <td>2.27</td>\n",
       "    </tr>\n",
       "    <tr>\n",
       "      <th>693069</th>\n",
       "      <td>60832b2355a7bf9dfb6360e7</td>\n",
       "      <td>2009-10-18 18:45:42.0000001</td>\n",
       "      <td>6.9</td>\n",
       "      <td>2009-10-18 18:45:42</td>\n",
       "      <td>1</td>\n",
       "      <td>1.50</td>\n",
       "    </tr>\n",
       "  </tbody>\n",
       "</table>\n",
       "<p>693070 rows × 6 columns</p>\n",
       "</div>"
      ],
      "text/plain": [
       "                             _id                            key  fare_amount  \\\n",
       "0       608328c055a7bf9dfb58cd9a    2009-06-15 17:26:21.0000001          4.5   \n",
       "1       608328c055a7bf9dfb58cd9b    2010-01-05 16:52:16.0000002         16.9   \n",
       "2       608328c055a7bf9dfb58cd9c   2011-08-18 00:35:00.00000049          5.7   \n",
       "3       608328c055a7bf9dfb58cd9d    2012-04-21 04:30:42.0000001          7.7   \n",
       "4       608328c055a7bf9dfb58cd9e  2010-03-09 07:51:00.000000135          5.3   \n",
       "...                          ...                            ...          ...   \n",
       "693065  60832b2355a7bf9dfb6360e3    2010-02-12 12:03:21.0000003          9.7   \n",
       "693066  60832b2355a7bf9dfb6360e4    2011-07-22 11:46:20.0000002         23.7   \n",
       "693067  60832b2355a7bf9dfb6360e5    2011-09-07 10:29:16.0000002          4.5   \n",
       "693068  60832b2355a7bf9dfb6360e6    2009-10-12 12:58:42.0000003          6.5   \n",
       "693069  60832b2355a7bf9dfb6360e7    2009-10-18 18:45:42.0000001          6.9   \n",
       "\n",
       "           pickup_datetime  passenger_count  distance  \n",
       "0      2009-06-15 17:26:21                1      1.03  \n",
       "1      2010-01-05 16:52:16                1      8.45  \n",
       "2      2011-08-18 00:35:00                2      1.39  \n",
       "3      2012-04-21 04:30:42                1      2.80  \n",
       "4      2010-03-09 07:51:00                1      2.00  \n",
       "...                    ...              ...       ...  \n",
       "693065 2010-02-12 12:03:21                1      3.23  \n",
       "693066 2011-07-22 11:46:20                4     12.73  \n",
       "693067 2011-09-07 10:29:16                1      0.32  \n",
       "693068 2009-10-12 12:58:42                1      2.27  \n",
       "693069 2009-10-18 18:45:42                1      1.50  \n",
       "\n",
       "[693070 rows x 6 columns]"
      ]
     },
     "execution_count": 7,
     "metadata": {},
     "output_type": "execute_result"
    }
   ],
   "source": [
    "\n",
    "train"
   ]
  },
  {
   "cell_type": "code",
   "execution_count": 8,
   "metadata": {},
   "outputs": [
    {
     "data": {
      "text/html": [
       "<div>\n",
       "<style scoped>\n",
       "    .dataframe tbody tr th:only-of-type {\n",
       "        vertical-align: middle;\n",
       "    }\n",
       "\n",
       "    .dataframe tbody tr th {\n",
       "        vertical-align: top;\n",
       "    }\n",
       "\n",
       "    .dataframe thead th {\n",
       "        text-align: right;\n",
       "    }\n",
       "</style>\n",
       "<table border=\"1\" class=\"dataframe\">\n",
       "  <thead>\n",
       "    <tr style=\"text-align: right;\">\n",
       "      <th></th>\n",
       "      <th>_id</th>\n",
       "      <th>key</th>\n",
       "      <th>pickup_datetime</th>\n",
       "      <th>passenger_count</th>\n",
       "      <th>distance</th>\n",
       "    </tr>\n",
       "  </thead>\n",
       "  <tbody>\n",
       "    <tr>\n",
       "      <th>0</th>\n",
       "      <td>6083216d55a7bf9dfb438044</td>\n",
       "      <td>2015-01-27 13:08:24.0000002</td>\n",
       "      <td>2015-01-27 13:08:24</td>\n",
       "      <td>1</td>\n",
       "      <td>2.32</td>\n",
       "    </tr>\n",
       "    <tr>\n",
       "      <th>1</th>\n",
       "      <td>6083216d55a7bf9dfb438045</td>\n",
       "      <td>2015-01-27 13:08:24.0000003</td>\n",
       "      <td>2015-01-27 13:08:24</td>\n",
       "      <td>1</td>\n",
       "      <td>2.43</td>\n",
       "    </tr>\n",
       "    <tr>\n",
       "      <th>2</th>\n",
       "      <td>6083216d55a7bf9dfb438046</td>\n",
       "      <td>2011-10-08 11:53:44.0000002</td>\n",
       "      <td>2011-10-08 11:53:44</td>\n",
       "      <td>1</td>\n",
       "      <td>0.62</td>\n",
       "    </tr>\n",
       "    <tr>\n",
       "      <th>3</th>\n",
       "      <td>6083216d55a7bf9dfb438047</td>\n",
       "      <td>2012-12-01 21:12:12.0000002</td>\n",
       "      <td>2012-12-01 21:12:12</td>\n",
       "      <td>1</td>\n",
       "      <td>1.96</td>\n",
       "    </tr>\n",
       "    <tr>\n",
       "      <th>4</th>\n",
       "      <td>6083216d55a7bf9dfb438048</td>\n",
       "      <td>2012-12-01 21:12:12.0000003</td>\n",
       "      <td>2012-12-01 21:12:12</td>\n",
       "      <td>1</td>\n",
       "      <td>5.39</td>\n",
       "    </tr>\n",
       "    <tr>\n",
       "      <th>...</th>\n",
       "      <td>...</td>\n",
       "      <td>...</td>\n",
       "      <td>...</td>\n",
       "      <td>...</td>\n",
       "      <td>...</td>\n",
       "    </tr>\n",
       "    <tr>\n",
       "      <th>9909</th>\n",
       "      <td>6083217655a7bf9dfb43a6f9</td>\n",
       "      <td>2015-05-10 12:37:51.0000002</td>\n",
       "      <td>2015-05-10 12:37:51</td>\n",
       "      <td>6</td>\n",
       "      <td>2.13</td>\n",
       "    </tr>\n",
       "    <tr>\n",
       "      <th>9910</th>\n",
       "      <td>6083217655a7bf9dfb43a6fa</td>\n",
       "      <td>2015-01-12 17:05:51.0000001</td>\n",
       "      <td>2015-01-12 17:05:51</td>\n",
       "      <td>6</td>\n",
       "      <td>3.27</td>\n",
       "    </tr>\n",
       "    <tr>\n",
       "      <th>9911</th>\n",
       "      <td>6083217655a7bf9dfb43a6fb</td>\n",
       "      <td>2015-04-19 20:44:15.0000001</td>\n",
       "      <td>2015-04-19 20:44:15</td>\n",
       "      <td>6</td>\n",
       "      <td>19.19</td>\n",
       "    </tr>\n",
       "    <tr>\n",
       "      <th>9912</th>\n",
       "      <td>6083217655a7bf9dfb43a6fc</td>\n",
       "      <td>2015-01-31 01:05:19.0000005</td>\n",
       "      <td>2015-01-31 01:05:19</td>\n",
       "      <td>6</td>\n",
       "      <td>8.35</td>\n",
       "    </tr>\n",
       "    <tr>\n",
       "      <th>9913</th>\n",
       "      <td>6083217655a7bf9dfb43a6fd</td>\n",
       "      <td>2015-01-18 14:06:23.0000006</td>\n",
       "      <td>2015-01-18 14:06:23</td>\n",
       "      <td>6</td>\n",
       "      <td>1.18</td>\n",
       "    </tr>\n",
       "  </tbody>\n",
       "</table>\n",
       "<p>9914 rows × 5 columns</p>\n",
       "</div>"
      ],
      "text/plain": [
       "                           _id                          key  \\\n",
       "0     6083216d55a7bf9dfb438044  2015-01-27 13:08:24.0000002   \n",
       "1     6083216d55a7bf9dfb438045  2015-01-27 13:08:24.0000003   \n",
       "2     6083216d55a7bf9dfb438046  2011-10-08 11:53:44.0000002   \n",
       "3     6083216d55a7bf9dfb438047  2012-12-01 21:12:12.0000002   \n",
       "4     6083216d55a7bf9dfb438048  2012-12-01 21:12:12.0000003   \n",
       "...                        ...                          ...   \n",
       "9909  6083217655a7bf9dfb43a6f9  2015-05-10 12:37:51.0000002   \n",
       "9910  6083217655a7bf9dfb43a6fa  2015-01-12 17:05:51.0000001   \n",
       "9911  6083217655a7bf9dfb43a6fb  2015-04-19 20:44:15.0000001   \n",
       "9912  6083217655a7bf9dfb43a6fc  2015-01-31 01:05:19.0000005   \n",
       "9913  6083217655a7bf9dfb43a6fd  2015-01-18 14:06:23.0000006   \n",
       "\n",
       "         pickup_datetime  passenger_count  distance  \n",
       "0    2015-01-27 13:08:24                1      2.32  \n",
       "1    2015-01-27 13:08:24                1      2.43  \n",
       "2    2011-10-08 11:53:44                1      0.62  \n",
       "3    2012-12-01 21:12:12                1      1.96  \n",
       "4    2012-12-01 21:12:12                1      5.39  \n",
       "...                  ...              ...       ...  \n",
       "9909 2015-05-10 12:37:51                6      2.13  \n",
       "9910 2015-01-12 17:05:51                6      3.27  \n",
       "9911 2015-04-19 20:44:15                6     19.19  \n",
       "9912 2015-01-31 01:05:19                6      8.35  \n",
       "9913 2015-01-18 14:06:23                6      1.18  \n",
       "\n",
       "[9914 rows x 5 columns]"
      ]
     },
     "execution_count": 8,
     "metadata": {},
     "output_type": "execute_result"
    }
   ],
   "source": [
    "test"
   ]
  },
  {
   "cell_type": "code",
   "execution_count": 9,
   "metadata": {},
   "outputs": [
    {
     "name": "stderr",
     "output_type": "stream",
     "text": [
      "<ipython-input-9-7e0668cc8b12>:4: FutureWarning: Series.dt.weekofyear and Series.dt.week have been deprecated.  Please use Series.dt.isocalendar().week instead.\n",
      "  train['week'] = train.pickup_datetime.dt.week.astype(float)\n",
      "<ipython-input-9-7e0668cc8b12>:7: FutureWarning: Series.dt.weekofyear and Series.dt.week have been deprecated.  Please use Series.dt.isocalendar().week instead.\n",
      "  train['week_of_year'] = train.pickup_datetime.dt.weekofyear.astype(float)\n",
      "<ipython-input-9-7e0668cc8b12>:14: FutureWarning: Series.dt.weekofyear and Series.dt.week have been deprecated.  Please use Series.dt.isocalendar().week instead.\n",
      "  test['week'] = test.pickup_datetime.dt.week.astype(float)\n",
      "<ipython-input-9-7e0668cc8b12>:17: FutureWarning: Series.dt.weekofyear and Series.dt.week have been deprecated.  Please use Series.dt.isocalendar().week instead.\n",
      "  test['week_of_year'] = test.pickup_datetime.dt.weekofyear.astype(float)\n"
     ]
    }
   ],
   "source": [
    "train['pickup_datetime'] = to_datetime(train['pickup_datetime'])\n",
    "train['hour_of_day'] = train.pickup_datetime.dt.hour.astype(float)\n",
    "train['day'] = train.pickup_datetime.dt.day.astype(float)\n",
    "train['week'] = train.pickup_datetime.dt.week.astype(float)\n",
    "train['month'] = train.pickup_datetime.dt.month.astype(float)\n",
    "train['day_of_year'] = train.pickup_datetime.dt.dayofyear.astype(float)\n",
    "train['week_of_year'] = train.pickup_datetime.dt.weekofyear.astype(float)\n",
    "train['passenger_count'] = train['passenger_count'].astype(float)\n",
    "train['distance'] = train['distance'].astype(float)\n",
    "\n",
    "test['pickup_datetime'] = to_datetime(test['pickup_datetime'])\n",
    "test['hour_of_day'] = test.pickup_datetime.dt.hour.astype(float)\n",
    "test['day'] = test.pickup_datetime.dt.day.astype(float)\n",
    "test['week'] = test.pickup_datetime.dt.week.astype(float)\n",
    "test['month'] = test.pickup_datetime.dt.month.astype(float)\n",
    "test['day_of_year'] = test.pickup_datetime.dt.dayofyear.astype(float)\n",
    "test['week_of_year'] = test.pickup_datetime.dt.weekofyear.astype(float)\n",
    "test['passenger_count'] = test['passenger_count'].astype(float)\n",
    "test['distance'] = test['distance'].astype(float)"
   ]
  },
  {
   "cell_type": "code",
   "execution_count": 10,
   "metadata": {},
   "outputs": [],
   "source": [
    "train_y = train[\"fare_amount\"]\n",
    "test_key = test[\"key\"]\n",
    "train_x = train.drop([\"fare_amount\", \"key\", \"passenger_count\"], axis = 1)\n",
    "train_x = train_x.drop(['pickup_datetime'], axis = 1)\n",
    "test = test.drop(['pickup_datetime', 'key', \"passenger_count\"], axis = 1)"
   ]
  },
  {
   "cell_type": "code",
   "execution_count": 41,
   "metadata": {},
   "outputs": [
    {
     "data": {
      "text/plain": [
       "0"
      ]
     },
     "execution_count": 41,
     "metadata": {},
     "output_type": "execute_result"
    }
   ],
   "source": [
    "# train_x = train_x.drop([\"_id\"], axis=1)\n",
    "# test = test.drop([\"_id\"], axis=1)\n",
    "train_y.isnull().sum()"
   ]
  },
  {
   "cell_type": "code",
   "execution_count": 14,
   "metadata": {},
   "outputs": [],
   "source": [
    "train_xgb = xgb.DMatrix(train_x, train_y)\n",
    "test_xgb = xgb.DMatrix(test)"
   ]
  },
  {
   "cell_type": "code",
   "execution_count": 15,
   "metadata": {},
   "outputs": [
    {
     "name": "stdout",
     "output_type": "stream",
     "text": [
      "[22:24:06] WARNING: ../src/learner.cc:573: \n",
      "Parameters: { \"min_child-weight\", \"normalize_type\", \"rate_drop\", \"three-method\" } might not be used.\n",
      "\n",
      "  This may not be accurate due to some parameters are only used in language bindings but\n",
      "  passed down to XGBoost core.  Or some parameters are not used but slip through this\n",
      "  verification. Please open an issue if you find above cases.\n",
      "\n",
      "\n"
     ]
    }
   ],
   "source": [
    "num_round = 2\n",
    "param = {'max_depth':12, 'eta':0.2,'min_child-weight':2, 'gamma':2, 'booster':'gbtree', 'three-method':'approx', 'normalize_type':'forest', 'rate_drop':0.3, 'eval_metric':'rmse'}\n",
    "trainer = xgb.train(param, train_xgb, num_round)\n",
    "trainer.save_model(\"yellow_cab_model.json\")\n",
    "\n",
    "# loaded_model\n",
    "# print(train)"
   ]
  },
  {
   "cell_type": "code",
   "execution_count": 16,
   "metadata": {},
   "outputs": [
    {
     "name": "stderr",
     "output_type": "stream",
     "text": [
      "/home/abdullahz/.local/lib/python3.8/site-packages/xgboost/core.py:101: UserWarning: ntree_limit is deprecated, use `iteration_range` or model slicing instead.\n",
      "  warnings.warn(\n"
     ]
    }
   ],
   "source": [
    "loaded_model = xgb.Booster()\n",
    "loaded_model.load_model(\"yellow_cab_model.json\")\n",
    "predict = loaded_model.predict(test_xgb, ntree_limit = num_round)"
   ]
  },
  {
   "cell_type": "code",
   "execution_count": 18,
   "metadata": {},
   "outputs": [
    {
     "data": {
      "text/plain": [
       "array([ 3.694891 ,  3.782444 ,  2.1022897, ..., 16.806318 ,  7.6901274,\n",
       "        2.5814695], dtype=float32)"
      ]
     },
     "execution_count": 18,
     "metadata": {},
     "output_type": "execute_result"
    }
   ],
   "source": [
    "predict"
   ]
  },
  {
   "cell_type": "markdown",
   "metadata": {},
   "source": [
    "### Train XGBoost for Uber"
   ]
  },
  {
   "cell_type": "code",
   "execution_count": 19,
   "metadata": {},
   "outputs": [],
   "source": [
    "others = db['UberLyftStuff']"
   ]
  },
  {
   "cell_type": "code",
   "execution_count": 20,
   "metadata": {},
   "outputs": [],
   "source": [
    "uber_df = pd.DataFrame(list(others.find({\"cab_type\":\"Uber\"})))"
   ]
  },
  {
   "cell_type": "code",
   "execution_count": 21,
   "metadata": {},
   "outputs": [
    {
     "name": "stderr",
     "output_type": "stream",
     "text": [
      "<ipython-input-21-0fbd052ef4a2>:4: FutureWarning: Series.dt.weekofyear and Series.dt.week have been deprecated.  Please use Series.dt.isocalendar().week instead.\n",
      "  uber_df['week'] = uber_df.time_stamp.dt.week.astype(float)\n",
      "<ipython-input-21-0fbd052ef4a2>:7: FutureWarning: Series.dt.weekofyear and Series.dt.week have been deprecated.  Please use Series.dt.isocalendar().week instead.\n",
      "  uber_df['week_of_year'] = uber_df.time_stamp.dt.weekofyear.astype(float)\n"
     ]
    }
   ],
   "source": [
    "uber_df['time_stamp'] = to_datetime(uber_df['time_stamp'])\n",
    "uber_df['hour_of_day'] = uber_df.time_stamp.dt.hour.astype(float)\n",
    "uber_df['day'] = uber_df.time_stamp.dt.day.astype(float)\n",
    "uber_df['week'] = uber_df.time_stamp.dt.week.astype(float)\n",
    "uber_df['month'] = uber_df.time_stamp.dt.month.astype(float)\n",
    "uber_df['day_of_year'] = uber_df.time_stamp.dt.dayofyear.astype(float)\n",
    "uber_df['week_of_year'] = uber_df.time_stamp.dt.weekofyear.astype(float)\n",
    "uber_df['distance'] =  uber_df['distance'].astype(float)"
   ]
  },
  {
   "cell_type": "code",
   "execution_count": 22,
   "metadata": {},
   "outputs": [
    {
     "data": {
      "text/html": [
       "<div>\n",
       "<style scoped>\n",
       "    .dataframe tbody tr th:only-of-type {\n",
       "        vertical-align: middle;\n",
       "    }\n",
       "\n",
       "    .dataframe tbody tr th {\n",
       "        vertical-align: top;\n",
       "    }\n",
       "\n",
       "    .dataframe thead th {\n",
       "        text-align: right;\n",
       "    }\n",
       "</style>\n",
       "<table border=\"1\" class=\"dataframe\">\n",
       "  <thead>\n",
       "    <tr style=\"text-align: right;\">\n",
       "      <th></th>\n",
       "      <th>_id</th>\n",
       "      <th>distance</th>\n",
       "      <th>cab_type</th>\n",
       "      <th>time_stamp</th>\n",
       "      <th>price</th>\n",
       "      <th>surge_multiplier</th>\n",
       "      <th>hour_of_day</th>\n",
       "      <th>day</th>\n",
       "      <th>week</th>\n",
       "      <th>month</th>\n",
       "      <th>day_of_year</th>\n",
       "      <th>week_of_year</th>\n",
       "    </tr>\n",
       "  </thead>\n",
       "  <tbody>\n",
       "    <tr>\n",
       "      <th>0</th>\n",
       "      <td>60845ae79aaa8fb6629c145c</td>\n",
       "      <td>1.11</td>\n",
       "      <td>Uber</td>\n",
       "      <td>2018-11-30 22:13:01</td>\n",
       "      <td>12.0</td>\n",
       "      <td>1</td>\n",
       "      <td>22.0</td>\n",
       "      <td>30.0</td>\n",
       "      <td>48.0</td>\n",
       "      <td>11.0</td>\n",
       "      <td>334.0</td>\n",
       "      <td>48.0</td>\n",
       "    </tr>\n",
       "    <tr>\n",
       "      <th>1</th>\n",
       "      <td>60845ae79aaa8fb6629c145d</td>\n",
       "      <td>1.11</td>\n",
       "      <td>Uber</td>\n",
       "      <td>2018-12-13 10:50:11</td>\n",
       "      <td>16.0</td>\n",
       "      <td>1</td>\n",
       "      <td>10.0</td>\n",
       "      <td>13.0</td>\n",
       "      <td>50.0</td>\n",
       "      <td>12.0</td>\n",
       "      <td>347.0</td>\n",
       "      <td>50.0</td>\n",
       "    </tr>\n",
       "    <tr>\n",
       "      <th>2</th>\n",
       "      <td>60845ae79aaa8fb6629c145e</td>\n",
       "      <td>1.11</td>\n",
       "      <td>Uber</td>\n",
       "      <td>2018-12-13 19:15:03</td>\n",
       "      <td>7.5</td>\n",
       "      <td>1</td>\n",
       "      <td>19.0</td>\n",
       "      <td>13.0</td>\n",
       "      <td>50.0</td>\n",
       "      <td>12.0</td>\n",
       "      <td>347.0</td>\n",
       "      <td>50.0</td>\n",
       "    </tr>\n",
       "    <tr>\n",
       "      <th>3</th>\n",
       "      <td>60845ae79aaa8fb6629c145f</td>\n",
       "      <td>1.11</td>\n",
       "      <td>Uber</td>\n",
       "      <td>2018-12-16 23:55:11</td>\n",
       "      <td>7.5</td>\n",
       "      <td>1</td>\n",
       "      <td>23.0</td>\n",
       "      <td>16.0</td>\n",
       "      <td>50.0</td>\n",
       "      <td>12.0</td>\n",
       "      <td>350.0</td>\n",
       "      <td>50.0</td>\n",
       "    </tr>\n",
       "    <tr>\n",
       "      <th>4</th>\n",
       "      <td>60845ae79aaa8fb6629c1460</td>\n",
       "      <td>1.11</td>\n",
       "      <td>Uber</td>\n",
       "      <td>2018-12-14 00:40:07</td>\n",
       "      <td>26.0</td>\n",
       "      <td>1</td>\n",
       "      <td>0.0</td>\n",
       "      <td>14.0</td>\n",
       "      <td>50.0</td>\n",
       "      <td>12.0</td>\n",
       "      <td>348.0</td>\n",
       "      <td>50.0</td>\n",
       "    </tr>\n",
       "    <tr>\n",
       "      <th>...</th>\n",
       "      <td>...</td>\n",
       "      <td>...</td>\n",
       "      <td>...</td>\n",
       "      <td>...</td>\n",
       "      <td>...</td>\n",
       "      <td>...</td>\n",
       "      <td>...</td>\n",
       "      <td>...</td>\n",
       "      <td>...</td>\n",
       "      <td>...</td>\n",
       "      <td>...</td>\n",
       "      <td>...</td>\n",
       "    </tr>\n",
       "    <tr>\n",
       "      <th>385658</th>\n",
       "      <td>60845d6c9aaa8fb662a6a79a</td>\n",
       "      <td>1.00</td>\n",
       "      <td>Uber</td>\n",
       "      <td>2018-12-01 23:53:05</td>\n",
       "      <td>13.0</td>\n",
       "      <td>1</td>\n",
       "      <td>23.0</td>\n",
       "      <td>1.0</td>\n",
       "      <td>48.0</td>\n",
       "      <td>12.0</td>\n",
       "      <td>335.0</td>\n",
       "      <td>48.0</td>\n",
       "    </tr>\n",
       "    <tr>\n",
       "      <th>385659</th>\n",
       "      <td>60845d6c9aaa8fb662a6a79b</td>\n",
       "      <td>1.00</td>\n",
       "      <td>Uber</td>\n",
       "      <td>2018-12-01 23:53:05</td>\n",
       "      <td>9.5</td>\n",
       "      <td>1</td>\n",
       "      <td>23.0</td>\n",
       "      <td>1.0</td>\n",
       "      <td>48.0</td>\n",
       "      <td>12.0</td>\n",
       "      <td>335.0</td>\n",
       "      <td>48.0</td>\n",
       "    </tr>\n",
       "    <tr>\n",
       "      <th>385660</th>\n",
       "      <td>60845d6c9aaa8fb662a6a79c</td>\n",
       "      <td>1.00</td>\n",
       "      <td>Uber</td>\n",
       "      <td>2018-12-01 23:53:05</td>\n",
       "      <td>NaN</td>\n",
       "      <td>1</td>\n",
       "      <td>23.0</td>\n",
       "      <td>1.0</td>\n",
       "      <td>48.0</td>\n",
       "      <td>12.0</td>\n",
       "      <td>335.0</td>\n",
       "      <td>48.0</td>\n",
       "    </tr>\n",
       "    <tr>\n",
       "      <th>385661</th>\n",
       "      <td>60845d6c9aaa8fb662a6a79d</td>\n",
       "      <td>1.00</td>\n",
       "      <td>Uber</td>\n",
       "      <td>2018-12-01 23:53:05</td>\n",
       "      <td>27.0</td>\n",
       "      <td>1</td>\n",
       "      <td>23.0</td>\n",
       "      <td>1.0</td>\n",
       "      <td>48.0</td>\n",
       "      <td>12.0</td>\n",
       "      <td>335.0</td>\n",
       "      <td>48.0</td>\n",
       "    </tr>\n",
       "    <tr>\n",
       "      <th>385662</th>\n",
       "      <td>60845d6c9aaa8fb662a6a79e</td>\n",
       "      <td>1.00</td>\n",
       "      <td>Uber</td>\n",
       "      <td>2018-12-01 23:53:05</td>\n",
       "      <td>10.0</td>\n",
       "      <td>1</td>\n",
       "      <td>23.0</td>\n",
       "      <td>1.0</td>\n",
       "      <td>48.0</td>\n",
       "      <td>12.0</td>\n",
       "      <td>335.0</td>\n",
       "      <td>48.0</td>\n",
       "    </tr>\n",
       "  </tbody>\n",
       "</table>\n",
       "<p>385663 rows × 12 columns</p>\n",
       "</div>"
      ],
      "text/plain": [
       "                             _id  distance cab_type          time_stamp  \\\n",
       "0       60845ae79aaa8fb6629c145c      1.11     Uber 2018-11-30 22:13:01   \n",
       "1       60845ae79aaa8fb6629c145d      1.11     Uber 2018-12-13 10:50:11   \n",
       "2       60845ae79aaa8fb6629c145e      1.11     Uber 2018-12-13 19:15:03   \n",
       "3       60845ae79aaa8fb6629c145f      1.11     Uber 2018-12-16 23:55:11   \n",
       "4       60845ae79aaa8fb6629c1460      1.11     Uber 2018-12-14 00:40:07   \n",
       "...                          ...       ...      ...                 ...   \n",
       "385658  60845d6c9aaa8fb662a6a79a      1.00     Uber 2018-12-01 23:53:05   \n",
       "385659  60845d6c9aaa8fb662a6a79b      1.00     Uber 2018-12-01 23:53:05   \n",
       "385660  60845d6c9aaa8fb662a6a79c      1.00     Uber 2018-12-01 23:53:05   \n",
       "385661  60845d6c9aaa8fb662a6a79d      1.00     Uber 2018-12-01 23:53:05   \n",
       "385662  60845d6c9aaa8fb662a6a79e      1.00     Uber 2018-12-01 23:53:05   \n",
       "\n",
       "        price  surge_multiplier  hour_of_day   day  week  month  day_of_year  \\\n",
       "0        12.0                 1         22.0  30.0  48.0   11.0        334.0   \n",
       "1        16.0                 1         10.0  13.0  50.0   12.0        347.0   \n",
       "2         7.5                 1         19.0  13.0  50.0   12.0        347.0   \n",
       "3         7.5                 1         23.0  16.0  50.0   12.0        350.0   \n",
       "4        26.0                 1          0.0  14.0  50.0   12.0        348.0   \n",
       "...       ...               ...          ...   ...   ...    ...          ...   \n",
       "385658   13.0                 1         23.0   1.0  48.0   12.0        335.0   \n",
       "385659    9.5                 1         23.0   1.0  48.0   12.0        335.0   \n",
       "385660    NaN                 1         23.0   1.0  48.0   12.0        335.0   \n",
       "385661   27.0                 1         23.0   1.0  48.0   12.0        335.0   \n",
       "385662   10.0                 1         23.0   1.0  48.0   12.0        335.0   \n",
       "\n",
       "        week_of_year  \n",
       "0               48.0  \n",
       "1               50.0  \n",
       "2               50.0  \n",
       "3               50.0  \n",
       "4               50.0  \n",
       "...              ...  \n",
       "385658          48.0  \n",
       "385659          48.0  \n",
       "385660          48.0  \n",
       "385661          48.0  \n",
       "385662          48.0  \n",
       "\n",
       "[385663 rows x 12 columns]"
      ]
     },
     "execution_count": 22,
     "metadata": {},
     "output_type": "execute_result"
    }
   ],
   "source": [
    "uber_df"
   ]
  },
  {
   "cell_type": "code",
   "execution_count": 23,
   "metadata": {},
   "outputs": [
    {
     "name": "stdout",
     "output_type": "stream",
     "text": [
      "30346\n",
      "422\n",
      "127\n"
     ]
    }
   ],
   "source": [
    "print(uber_df.time_stamp.nunique())\n",
    "print(uber_df.distance.nunique())\n",
    "print(uber_df.price.nunique())"
   ]
  },
  {
   "cell_type": "code",
   "execution_count": 24,
   "metadata": {},
   "outputs": [],
   "source": [
    "uber_df_y = uber_df['price']\n",
    "uber_df_x = uber_df.drop([\"_id\", \"cab_type\", \"time_stamp\", \"surge_multiplier\"], axis = 1)"
   ]
  },
  {
   "cell_type": "code",
   "execution_count": 25,
   "metadata": {},
   "outputs": [],
   "source": [
    "uber_df_x = uber_df_x.drop([\"price\"], axis=1)"
   ]
  },
  {
   "cell_type": "code",
   "execution_count": 54,
   "metadata": {},
   "outputs": [
    {
     "data": {
      "text/html": [
       "<div>\n",
       "<style scoped>\n",
       "    .dataframe tbody tr th:only-of-type {\n",
       "        vertical-align: middle;\n",
       "    }\n",
       "\n",
       "    .dataframe tbody tr th {\n",
       "        vertical-align: top;\n",
       "    }\n",
       "\n",
       "    .dataframe thead th {\n",
       "        text-align: right;\n",
       "    }\n",
       "</style>\n",
       "<table border=\"1\" class=\"dataframe\">\n",
       "  <thead>\n",
       "    <tr style=\"text-align: right;\">\n",
       "      <th></th>\n",
       "      <th>distance</th>\n",
       "      <th>hour_of_day</th>\n",
       "      <th>day</th>\n",
       "      <th>week</th>\n",
       "      <th>month</th>\n",
       "      <th>day_of_year</th>\n",
       "      <th>week_of_year</th>\n",
       "    </tr>\n",
       "  </thead>\n",
       "  <tbody>\n",
       "    <tr>\n",
       "      <th>0</th>\n",
       "      <td>1.11</td>\n",
       "      <td>22.0</td>\n",
       "      <td>30.0</td>\n",
       "      <td>48.0</td>\n",
       "      <td>11.0</td>\n",
       "      <td>334.0</td>\n",
       "      <td>48.0</td>\n",
       "    </tr>\n",
       "    <tr>\n",
       "      <th>1</th>\n",
       "      <td>1.11</td>\n",
       "      <td>10.0</td>\n",
       "      <td>13.0</td>\n",
       "      <td>50.0</td>\n",
       "      <td>12.0</td>\n",
       "      <td>347.0</td>\n",
       "      <td>50.0</td>\n",
       "    </tr>\n",
       "    <tr>\n",
       "      <th>2</th>\n",
       "      <td>1.11</td>\n",
       "      <td>19.0</td>\n",
       "      <td>13.0</td>\n",
       "      <td>50.0</td>\n",
       "      <td>12.0</td>\n",
       "      <td>347.0</td>\n",
       "      <td>50.0</td>\n",
       "    </tr>\n",
       "    <tr>\n",
       "      <th>3</th>\n",
       "      <td>1.11</td>\n",
       "      <td>23.0</td>\n",
       "      <td>16.0</td>\n",
       "      <td>50.0</td>\n",
       "      <td>12.0</td>\n",
       "      <td>350.0</td>\n",
       "      <td>50.0</td>\n",
       "    </tr>\n",
       "    <tr>\n",
       "      <th>4</th>\n",
       "      <td>1.11</td>\n",
       "      <td>0.0</td>\n",
       "      <td>14.0</td>\n",
       "      <td>50.0</td>\n",
       "      <td>12.0</td>\n",
       "      <td>348.0</td>\n",
       "      <td>50.0</td>\n",
       "    </tr>\n",
       "    <tr>\n",
       "      <th>...</th>\n",
       "      <td>...</td>\n",
       "      <td>...</td>\n",
       "      <td>...</td>\n",
       "      <td>...</td>\n",
       "      <td>...</td>\n",
       "      <td>...</td>\n",
       "      <td>...</td>\n",
       "    </tr>\n",
       "    <tr>\n",
       "      <th>385658</th>\n",
       "      <td>1.00</td>\n",
       "      <td>23.0</td>\n",
       "      <td>1.0</td>\n",
       "      <td>48.0</td>\n",
       "      <td>12.0</td>\n",
       "      <td>335.0</td>\n",
       "      <td>48.0</td>\n",
       "    </tr>\n",
       "    <tr>\n",
       "      <th>385659</th>\n",
       "      <td>1.00</td>\n",
       "      <td>23.0</td>\n",
       "      <td>1.0</td>\n",
       "      <td>48.0</td>\n",
       "      <td>12.0</td>\n",
       "      <td>335.0</td>\n",
       "      <td>48.0</td>\n",
       "    </tr>\n",
       "    <tr>\n",
       "      <th>385660</th>\n",
       "      <td>1.00</td>\n",
       "      <td>23.0</td>\n",
       "      <td>1.0</td>\n",
       "      <td>48.0</td>\n",
       "      <td>12.0</td>\n",
       "      <td>335.0</td>\n",
       "      <td>48.0</td>\n",
       "    </tr>\n",
       "    <tr>\n",
       "      <th>385661</th>\n",
       "      <td>1.00</td>\n",
       "      <td>23.0</td>\n",
       "      <td>1.0</td>\n",
       "      <td>48.0</td>\n",
       "      <td>12.0</td>\n",
       "      <td>335.0</td>\n",
       "      <td>48.0</td>\n",
       "    </tr>\n",
       "    <tr>\n",
       "      <th>385662</th>\n",
       "      <td>1.00</td>\n",
       "      <td>23.0</td>\n",
       "      <td>1.0</td>\n",
       "      <td>48.0</td>\n",
       "      <td>12.0</td>\n",
       "      <td>335.0</td>\n",
       "      <td>48.0</td>\n",
       "    </tr>\n",
       "  </tbody>\n",
       "</table>\n",
       "<p>385663 rows × 7 columns</p>\n",
       "</div>"
      ],
      "text/plain": [
       "        distance  hour_of_day   day  week  month  day_of_year  week_of_year\n",
       "0           1.11         22.0  30.0  48.0   11.0        334.0          48.0\n",
       "1           1.11         10.0  13.0  50.0   12.0        347.0          50.0\n",
       "2           1.11         19.0  13.0  50.0   12.0        347.0          50.0\n",
       "3           1.11         23.0  16.0  50.0   12.0        350.0          50.0\n",
       "4           1.11          0.0  14.0  50.0   12.0        348.0          50.0\n",
       "...          ...          ...   ...   ...    ...          ...           ...\n",
       "385658      1.00         23.0   1.0  48.0   12.0        335.0          48.0\n",
       "385659      1.00         23.0   1.0  48.0   12.0        335.0          48.0\n",
       "385660      1.00         23.0   1.0  48.0   12.0        335.0          48.0\n",
       "385661      1.00         23.0   1.0  48.0   12.0        335.0          48.0\n",
       "385662      1.00         23.0   1.0  48.0   12.0        335.0          48.0\n",
       "\n",
       "[385663 rows x 7 columns]"
      ]
     },
     "execution_count": 54,
     "metadata": {},
     "output_type": "execute_result"
    }
   ],
   "source": [
    "uber_df_x"
   ]
  },
  {
   "cell_type": "code",
   "execution_count": 58,
   "metadata": {},
   "outputs": [
    {
     "data": {
      "text/plain": [
       "0         12.000000\n",
       "1         16.000000\n",
       "2          7.500000\n",
       "3          7.500000\n",
       "4         26.000000\n",
       "            ...    \n",
       "385658    13.000000\n",
       "385659     9.500000\n",
       "385660    15.795343\n",
       "385661    27.000000\n",
       "385662    10.000000\n",
       "Name: price, Length: 385663, dtype: float64"
      ]
     },
     "execution_count": 58,
     "metadata": {},
     "output_type": "execute_result"
    }
   ],
   "source": [
    "uber_df_y = uber_df_y.fillna(uber_df_y.mean())\n",
    "uber_df_y"
   ]
  },
  {
   "cell_type": "code",
   "execution_count": 59,
   "metadata": {},
   "outputs": [],
   "source": [
    "uber_train_xgb = xgb.DMatrix(uber_df_x, uber_df_y)"
   ]
  },
  {
   "cell_type": "code",
   "execution_count": 63,
   "metadata": {},
   "outputs": [
    {
     "name": "stdout",
     "output_type": "stream",
     "text": [
      "[22:32:44] WARNING: ../src/learner.cc:573: \n",
      "Parameters: { \"n_estimators\", \"silent\" } might not be used.\n",
      "\n",
      "  This may not be accurate due to some parameters are only used in language bindings but\n",
      "  passed down to XGBoost core.  Or some parameters are not used but slip through this\n",
      "  verification. Please open an issue if you find above cases.\n",
      "\n",
      "\n"
     ]
    }
   ],
   "source": [
    "num_round = 2\n",
    "param = {'max_depth':12, 'eta':0.2,'min_child-weight':1, 'gamma':2, 'booster':'gbtree', 'three-method':'approx', 'normalize_type':'forest', 'rate_drop':0.3, 'eval_metric':'rmse'}\n",
    "uber_trainer = xgb.train(xgb_params, uber_train_xgb, num_round)\n",
    "uber_trainer.save_model(\"uber_model.json\")"
   ]
  },
  {
   "cell_type": "code",
   "execution_count": 64,
   "metadata": {},
   "outputs": [],
   "source": [
    "predict = uber_trainer.predict(test_xgb, ntree_limit = num_round)"
   ]
  },
  {
   "cell_type": "code",
   "execution_count": 65,
   "metadata": {},
   "outputs": [
    {
     "data": {
      "text/plain": [
       "array([12.221079, 12.80715 ,  9.743331, ..., 12.835542, 13.90937 ,\n",
       "       10.666513], dtype=float32)"
      ]
     },
     "execution_count": 65,
     "metadata": {},
     "output_type": "execute_result"
    }
   ],
   "source": [
    "predict"
   ]
  },
  {
   "cell_type": "markdown",
   "metadata": {},
   "source": [
    "### XGBoost for Lyft"
   ]
  },
  {
   "cell_type": "code",
   "execution_count": 67,
   "metadata": {},
   "outputs": [],
   "source": [
    "lyft_df = pd.DataFrame(list(others.find({\"cab_type\":\"Lyft\"})))"
   ]
  },
  {
   "cell_type": "code",
   "execution_count": 68,
   "metadata": {},
   "outputs": [
    {
     "name": "stderr",
     "output_type": "stream",
     "text": [
      "<ipython-input-68-72f3565e6c0e>:4: FutureWarning: Series.dt.weekofyear and Series.dt.week have been deprecated.  Please use Series.dt.isocalendar().week instead.\n",
      "  lyft_df['week'] = lyft_df.time_stamp.dt.week.astype(float)\n",
      "<ipython-input-68-72f3565e6c0e>:7: FutureWarning: Series.dt.weekofyear and Series.dt.week have been deprecated.  Please use Series.dt.isocalendar().week instead.\n",
      "  lyft_df['week_of_year'] = lyft_df.time_stamp.dt.weekofyear.astype(float)\n"
     ]
    }
   ],
   "source": [
    "lyft_df['time_stamp'] = to_datetime(uber_df['time_stamp'])\n",
    "lyft_df['hour_of_day'] = lyft_df.time_stamp.dt.hour.astype(float)\n",
    "lyft_df['day'] = lyft_df.time_stamp.dt.day.astype(float)\n",
    "lyft_df['week'] = lyft_df.time_stamp.dt.week.astype(float)\n",
    "lyft_df['month'] = lyft_df.time_stamp.dt.month.astype(float)\n",
    "lyft_df['day_of_year'] = lyft_df.time_stamp.dt.dayofyear.astype(float)\n",
    "lyft_df['week_of_year'] = lyft_df.time_stamp.dt.weekofyear.astype(float)\n",
    "lyft_df['distance'] =  lyft_df['distance'].astype(float)"
   ]
  },
  {
   "cell_type": "code",
   "execution_count": 69,
   "metadata": {},
   "outputs": [],
   "source": [
    "lyft_df_y = lyft_df['price']\n",
    "lyft_df_x = lyft_df.drop([\"_id\", \"cab_type\", \"time_stamp\", \"surge_multiplier\"], axis = 1)"
   ]
  },
  {
   "cell_type": "code",
   "execution_count": 70,
   "metadata": {},
   "outputs": [],
   "source": [
    "lyft_df_x = lyft_df_x.drop([\"price\"], axis=1)"
   ]
  },
  {
   "cell_type": "code",
   "execution_count": 71,
   "metadata": {},
   "outputs": [
    {
     "data": {
      "text/plain": [
       "0          5.0\n",
       "1         11.0\n",
       "2          7.0\n",
       "3         26.0\n",
       "4          9.0\n",
       "          ... \n",
       "307403    16.5\n",
       "307404    22.5\n",
       "307405     7.0\n",
       "307406    10.5\n",
       "307407    32.5\n",
       "Name: price, Length: 307408, dtype: float64"
      ]
     },
     "execution_count": 71,
     "metadata": {},
     "output_type": "execute_result"
    }
   ],
   "source": [
    "lyft_df_y = lyft_df_y.fillna(lyft_df_y.mean())\n",
    "lyft_df_y"
   ]
  },
  {
   "cell_type": "code",
   "execution_count": 72,
   "metadata": {},
   "outputs": [],
   "source": [
    "lyft_train_xgb = xgb.DMatrix(lyft_df_x, lyft_df_y)"
   ]
  },
  {
   "cell_type": "code",
   "execution_count": 74,
   "metadata": {},
   "outputs": [
    {
     "name": "stdout",
     "output_type": "stream",
     "text": [
      "[22:37:22] WARNING: ../src/learner.cc:573: \n",
      "Parameters: { \"min_child-weight\", \"normalize_type\", \"rate_drop\", \"three-method\" } might not be used.\n",
      "\n",
      "  This may not be accurate due to some parameters are only used in language bindings but\n",
      "  passed down to XGBoost core.  Or some parameters are not used but slip through this\n",
      "  verification. Please open an issue if you find above cases.\n",
      "\n",
      "\n"
     ]
    }
   ],
   "source": [
    "num_round = 2\n",
    "param = {'max_depth':12, 'eta':0.2,'min_child-weight':1, 'gamma':2, 'booster':'gbtree', 'three-method':'approx', 'normalize_type':'forest', 'rate_drop':0.3, 'eval_metric':'rmse'}\n",
    "lyft_trainer = xgb.train(param, lyft_train_xgb, num_round)\n",
    "lyft_trainer.save_model(\"lyft_model.json\")"
   ]
  },
  {
   "cell_type": "code",
   "execution_count": 75,
   "metadata": {},
   "outputs": [
    {
     "name": "stderr",
     "output_type": "stream",
     "text": [
      "/home/abdullahz/.local/lib/python3.8/site-packages/xgboost/core.py:101: UserWarning: ntree_limit is deprecated, use `iteration_range` or model slicing instead.\n",
      "  warnings.warn(\n"
     ]
    }
   ],
   "source": [
    "predict = lyft_trainer.predict(test_xgb, ntree_limit = num_round)"
   ]
  },
  {
   "cell_type": "code",
   "execution_count": 76,
   "metadata": {},
   "outputs": [
    {
     "data": {
      "text/plain": [
       "array([ 6.663357 ,  6.740643 ,  4.9359202, ..., 11.570581 , 11.570581 ,\n",
       "        5.3009195], dtype=float32)"
      ]
     },
     "execution_count": 76,
     "metadata": {},
     "output_type": "execute_result"
    }
   ],
   "source": [
    "predict"
   ]
  },
  {
   "cell_type": "code",
   "execution_count": 98,
   "metadata": {},
   "outputs": [],
   "source": [
    "pred = {\n",
    "    \"distance\" : [10],\n",
    "    \"hour_of_day\":[10.0],\n",
    "    \"day\":[27.0],\n",
    "    \"week\":[5.0],\n",
    "    \"month\":[1.0],\n",
    "    \"day_of_year\":[27.0],\n",
    "    \"week_of_year\":[5.0],\n",
    "}\n",
    "pred_df = pd.DataFrame(pred)\n",
    "test_df = xgb.DMatrix(pred_df)"
   ]
  },
  {
   "cell_type": "code",
   "execution_count": 99,
   "metadata": {},
   "outputs": [
    {
     "name": "stderr",
     "output_type": "stream",
     "text": [
      "/home/abdullahz/.local/lib/python3.8/site-packages/xgboost/core.py:101: UserWarning: ntree_limit is deprecated, use `iteration_range` or model slicing instead.\n",
      "  warnings.warn(\n"
     ]
    }
   ],
   "source": [
    "predict = lyft_trainer.predict(test_df, ntree_limit = num_round)"
   ]
  },
  {
   "cell_type": "code",
   "execution_count": 101,
   "metadata": {},
   "outputs": [
    {
     "data": {
      "text/plain": [
       "11.570581"
      ]
     },
     "execution_count": 101,
     "metadata": {},
     "output_type": "execute_result"
    }
   ],
   "source": [
    "predict[0]"
   ]
  },
  {
   "cell_type": "markdown",
   "metadata": {},
   "source": [
    "## XGBoost for Uber Surge Multiplier"
   ]
  },
  {
   "cell_type": "code",
   "execution_count": null,
   "metadata": {},
   "outputs": [],
   "source": []
  }
 ],
 "metadata": {
  "kernelspec": {
   "display_name": "Python 3",
   "language": "python",
   "name": "python3"
  },
  "language_info": {
   "codemirror_mode": {
    "name": "ipython",
    "version": 3
   },
   "file_extension": ".py",
   "mimetype": "text/x-python",
   "name": "python",
   "nbconvert_exporter": "python",
   "pygments_lexer": "ipython3",
   "version": "3.8.5"
  }
 },
 "nbformat": 4,
 "nbformat_minor": 2
}
