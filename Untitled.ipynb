{
 "cells": [
  {
   "cell_type": "markdown",
   "metadata": {},
   "source": [
    "Setting up Data\n",
    "--"
   ]
  },
  {
   "cell_type": "code",
   "execution_count": 19,
   "metadata": {},
   "outputs": [
    {
     "data": {
      "text/html": [
       "<div>\n",
       "<style scoped>\n",
       "    .dataframe tbody tr th:only-of-type {\n",
       "        vertical-align: middle;\n",
       "    }\n",
       "\n",
       "    .dataframe tbody tr th {\n",
       "        vertical-align: top;\n",
       "    }\n",
       "\n",
       "    .dataframe thead th {\n",
       "        text-align: right;\n",
       "    }\n",
       "</style>\n",
       "<table border=\"1\" class=\"dataframe\">\n",
       "  <thead>\n",
       "    <tr style=\"text-align: right;\">\n",
       "      <th></th>\n",
       "      <th>key</th>\n",
       "      <th>fare_amount</th>\n",
       "      <th>pickup_datetime</th>\n",
       "      <th>pickup_longitude</th>\n",
       "      <th>pickup_latitude</th>\n",
       "      <th>dropoff_longitude</th>\n",
       "      <th>dropoff_latitude</th>\n",
       "      <th>passenger_count</th>\n",
       "      <th>combined</th>\n",
       "      <th>distance</th>\n",
       "    </tr>\n",
       "  </thead>\n",
       "  <tbody>\n",
       "    <tr>\n",
       "      <th>95547</th>\n",
       "      <td>2011-04-02 22:15:37.0000005</td>\n",
       "      <td>4.5</td>\n",
       "      <td>2011-04-02 22:15:37 UTC</td>\n",
       "      <td>-73.990762</td>\n",
       "      <td>40.73469</td>\n",
       "      <td>-73.988985</td>\n",
       "      <td>40.726998</td>\n",
       "      <td>2</td>\n",
       "      <td>[40.73469, -73.990762, 40.726997999999995, -73...</td>\n",
       "      <td>0.87</td>\n",
       "    </tr>\n",
       "  </tbody>\n",
       "</table>\n",
       "</div>"
      ],
      "text/plain": [
       "                               key  fare_amount          pickup_datetime  \\\n",
       "95547  2011-04-02 22:15:37.0000005          4.5  2011-04-02 22:15:37 UTC   \n",
       "\n",
       "       pickup_longitude  pickup_latitude  dropoff_longitude  dropoff_latitude  \\\n",
       "95547        -73.990762         40.73469         -73.988985         40.726998   \n",
       "\n",
       "       passenger_count                                           combined  \\\n",
       "95547                2  [40.73469, -73.990762, 40.726997999999995, -73...   \n",
       "\n",
       "       distance  \n",
       "95547      0.87  "
      ]
     },
     "execution_count": 19,
     "metadata": {},
     "output_type": "execute_result"
    }
   ],
   "source": [
    "import csv\n",
    "import pandas as pd\n",
    "import matplotlib.pyplot as plt\n",
    "\n",
    "taxi = pd.read_csv(\"./nyc_taxi_processed.csv\")\n",
    "rshare = pd.read_csv(\"./others_processed.csv\")\n",
    "\n",
    "taxi.sample()"
   ]
  },
  {
   "cell_type": "markdown",
   "metadata": {},
   "source": [
    "Finding Amount of Data per Type of Ride\n",
    "--"
   ]
  },
  {
   "cell_type": "code",
   "execution_count": 16,
   "metadata": {},
   "outputs": [
    {
     "data": {
      "text/plain": [
       "<BarContainer object of 3 artists>"
      ]
     },
     "execution_count": 16,
     "metadata": {},
     "output_type": "execute_result"
    },
    {
     "data": {
      "image/png": "[encoded data removed]",
      "text/plain": [
       "<Figure size 432x288 with 1 Axes>"
      ]
     },
     "metadata": {
      "needs_background": "light"
     },
     "output_type": "display_data"
    }
   ],
   "source": [
    "labels = [\"Lyft\", \"Uber\", \"Taxi\"]\n",
    "val = [0,0,0]\n",
    "\n",
    "val[0] = len(rshare[rshare['cab_type']== \"Lyft\"])\n",
    "val[1] = len(rshare[rshare['cab_type']== \"Uber\"])\n",
    "val[2] = len(taxi)\n",
    "\n",
    "plt.bar(labels, val)"
   ]
  },
  {
   "cell_type": "markdown",
   "metadata": {},
   "source": [
    "Average Price Between Platforms\n",
    "--"
   ]
  },
  {
   "cell_type": "code",
   "execution_count": 19,
   "metadata": {},
   "outputs": [
    {
     "data": {
      "text/plain": [
       "<BarContainer object of 3 artists>"
      ]
     },
     "execution_count": 19,
     "metadata": {},
     "output_type": "execute_result"
    },
    {
     "data": {
      "image/png": "[encoded data removed]",
      "text/plain": [
       "<Figure size 432x288 with 1 Axes>"
      ]
     },
     "metadata": {
      "needs_background": "light"
     },
     "output_type": "display_data"
    }
   ],
   "source": [
    "labels = [\"Lyft\", \"Uber\", \"Taxi\"]\n",
    "val = [0,0,0]\n",
    "\n",
    "tmp = rshare[rshare['cab_type']== \"Lyft\"]\n",
    "val[0] = tmp['price'].mean()\n",
    "\n",
    "tmp = rshare[rshare['cab_type']== \"Uber\"]\n",
    "val[1] = tmp['price'].mean()\n",
    "\n",
    "val[2] = taxi['fare_amount'].mean()\n",
    "\n",
    "plt.bar(labels, val)"
   ]
  },
  {
   "cell_type": "markdown",
   "metadata": {},
   "source": [
    "Average Distance Between Platforms\n",
    "--"
   ]
  },
  {
   "cell_type": "code",
   "execution_count": 21,
   "metadata": {},
   "outputs": [
    {
     "data": {
      "text/plain": [
       "<BarContainer object of 3 artists>"
      ]
     },
     "execution_count": 21,
     "metadata": {},
     "output_type": "execute_result"
    },
    {
     "data": {
      "image/png": "[encoded data removed]",
      "text/plain": [
       "<Figure size 432x288 with 1 Axes>"
      ]
     },
     "metadata": {
      "needs_background": "light"
     },
     "output_type": "display_data"
    }
   ],
   "source": [
    "labels = [\"Lyft\", \"Uber\", \"Taxi\"]\n",
    "val = [0,0,0]\n",
    "\n",
    "tmp = rshare[rshare['cab_type']== \"Lyft\"]\n",
    "val[0] = tmp['distance'].mean()\n",
    "\n",
    "tmp = rshare[rshare['cab_type']== \"Uber\"]\n",
    "val[1] = tmp['distance'].mean()\n",
    "\n",
    "val[2] = taxi['distance'].mean()\n",
    "\n",
    "plt.bar(labels, val)"
   ]
  },
  {
   "cell_type": "markdown",
   "metadata": {},
   "source": [
    "Average Surge Pricing Between Lyft/Uber\n",
    "--"
   ]
  },
  {
   "cell_type": "code",
   "execution_count": 14,
   "metadata": {},
   "outputs": [
    {
     "data": {
      "text/plain": [
       "<BarContainer object of 2 artists>"
      ]
     },
     "execution_count": 14,
     "metadata": {},
     "output_type": "execute_result"
    },
    {
     "data": {
      "image/png": "[encoded data removed]",
      "text/plain": [
       "<Figure size 432x288 with 1 Axes>"
      ]
     },
     "metadata": {
      "needs_background": "light"
     },
     "output_type": "display_data"
    }
   ],
   "source": [
    "labels = [\"Lyft\", \"Uber\"]\n",
    "val = [0,0]\n",
    "\n",
    "tmp = rshare[rshare['cab_type']== \"Lyft\"]\n",
    "val[0] = tmp['surge_multiplier'].mean()\n",
    "\n",
    "tmp = rshare[rshare['cab_type']== \"Uber\"]\n",
    "val[1] = tmp['surge_multiplier'].mean()\n",
    "\n",
    "plt.bar(labels, val)"
   ]
  },
  {
   "cell_type": "markdown",
   "metadata": {},
   "source": [
    "Max Surge Pricing:\n",
    "--"
   ]
  },
  {
   "cell_type": "code",
   "execution_count": 17,
   "metadata": {},
   "outputs": [
    {
     "data": {
      "text/plain": [
       "<BarContainer object of 2 artists>"
      ]
     },
     "execution_count": 17,
     "metadata": {},
     "output_type": "execute_result"
    },
    {
     "data": {
      "image/png": "[encoded data removed]",
      "text/plain": [
       "<Figure size 432x288 with 1 Axes>"
      ]
     },
     "metadata": {
      "needs_background": "light"
     },
     "output_type": "display_data"
    }
   ],
   "source": [
    "labels = [\"Lyft\", \"Uber\"]\n",
    "val = [0,0]\n",
    "\n",
    "tmp = rshare[rshare['cab_type']== \"Lyft\"]\n",
    "val[0] = tmp['surge_multiplier'].max()\n",
    "\n",
    "tmp = rshare[rshare['cab_type']== \"Uber\"]\n",
    "val[1] = tmp['surge_multiplier'].max()\n",
    "\n",
    "plt.bar(labels, val)"
   ]
  },
  {
   "cell_type": "markdown",
   "metadata": {},
   "source": [
    "Type of Car Used:\n",
    "--"
   ]
  },
  {
   "cell_type": "code",
   "execution_count": 30,
   "metadata": {},
   "outputs": [
    {
     "data": {
      "text/plain": [
       "<AxesSubplot:>"
      ]
     },
     "execution_count": 30,
     "metadata": {},
     "output_type": "execute_result"
    },
    {
     "data": {
      "image/png": "[encoded data removed]",
      "text/plain": [
       "<Figure size 432x288 with 1 Axes>"
      ]
     },
     "metadata": {
      "needs_background": "light"
     },
     "output_type": "display_data"
    }
   ],
   "source": [
    "tmp = rshare[rshare['cab_type']== \"Lyft\"]\n",
    "tmp['name'].value_counts().plot(kind = 'barh')"
   ]
  },
  {
   "cell_type": "code",
   "execution_count": 31,
   "metadata": {},
   "outputs": [
    {
     "data": {
      "text/plain": [
       "<AxesSubplot:>"
      ]
     },
     "execution_count": 31,
     "metadata": {},
     "output_type": "execute_result"
    },
    {
     "data": {
      "image/png": "[encoded data removed]",
      "text/plain": [
       "<Figure size 432x288 with 1 Axes>"
      ]
     },
     "metadata": {
      "needs_background": "light"
     },
     "output_type": "display_data"
    }
   ],
   "source": [
    "tmp = rshare[rshare['cab_type']== \"Uber\"]\n",
    "tmp['name'].value_counts().plot(kind = 'barh')"
   ]
  },
  {
   "cell_type": "markdown",
   "metadata": {},
   "source": [
    "Time Series\n",
    "--"
   ]
  },
  {
   "cell_type": "code",
   "execution_count": 29,
   "metadata": {},
   "outputs": [],
   "source": [
    "taxi['date'] = pd.to_datetime(taxi['pickup_datetime'])"
   ]
  },
  {
   "cell_type": "code",
   "execution_count": 39,
   "metadata": {},
   "outputs": [
    {
     "data": {
      "text/plain": [
       "<BarContainer object of 12 artists>"
      ]
     },
     "execution_count": 39,
     "metadata": {},
     "output_type": "execute_result"
    },
    {
     "data": {
      "image/png": "[encoded data removed]",
      "text/plain": [
       "<Figure size 432x288 with 1 Axes>"
      ]
     },
     "metadata": {
      "needs_background": "light"
     },
     "output_type": "display_data"
    }
   ],
   "source": [
    "val = [0,0,0,0,0,0,0,0,0,0,0,0]\n",
    "labels = ['Jan', 'Feb', 'Mar', 'Apr', 'May', 'Jun', 'Jul', 'Aug', 'Sep', 'Oct', 'Nov', 'Dec']\n",
    "for i in taxi['date']:\n",
    "    if i.month == 1:\n",
    "        val[0]+=1\n",
    "    elif i.month == 2:\n",
    "        val[1]+=1\n",
    "    elif i.month == 3:\n",
    "        val[2]+=1\n",
    "    elif i.month == 4:\n",
    "        val[3]+=1\n",
    "    elif i.month == 5:\n",
    "        val[4]+=1\n",
    "    elif i.month == 6:\n",
    "        val[5]+=1\n",
    "    elif i.month == 7:\n",
    "        val[6]+=1\n",
    "    elif i.month == 8:\n",
    "        val[7]+=1\n",
    "    elif i.month == 9:\n",
    "        val[8]+=1\n",
    "    elif i.month == 10:\n",
    "        val[9]+=1\n",
    "    elif i.month == 11:\n",
    "        val[10]+=1\n",
    "    elif i.month == 12:\n",
    "        val[11]+=1\n",
    "\n",
    "plt.bar(labels, val)"
   ]
  },
  {
   "cell_type": "code",
   "execution_count": null,
   "metadata": {},
   "outputs": [],
   "source": [
    "df1 = df.groupby(df['date'].dt.to_period('M')).sum()\n",
    "df1 = df1.resample('M').asfreq().fillna(0)\n",
    "df1.plot(kind='bar')"
   ]
  }
 ],
 "metadata": {
  "kernelspec": {
   "display_name": "Python 3",
   "language": "python",
   "name": "python3"
  },
  "language_info": {
   "codemirror_mode": {
    "name": "ipython",
    "version": 3
   },
   "file_extension": ".py",
   "mimetype": "text/x-python",
   "name": "python",
   "nbconvert_exporter": "python",
   "pygments_lexer": "ipython3",
   "version": "3.8.5"
  }
 },
 "nbformat": 4,
 "nbformat_minor": 4
}
