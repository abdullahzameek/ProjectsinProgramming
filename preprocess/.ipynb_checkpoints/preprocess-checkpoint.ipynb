{
 "cells": [
  {
   "cell_type": "code",
   "execution_count": 1,
   "metadata": {},
   "outputs": [],
   "source": [
    "import pandas as pd\n",
    "import numpy as np\n",
    "import time\n",
    "from math import sin, cos, sqrt, atan2, radians"
   ]
  },
  {
   "cell_type": "code",
   "execution_count": 17,
   "metadata": {},
   "outputs": [],
   "source": [
    "nyc_taxi = pd.read_csv('nyc_taxi.csv')\n",
    "others = pd.read_csv('cab_rides.csv')"
   ]
  },
  {
   "cell_type": "code",
   "execution_count": 19,
   "metadata": {},
   "outputs": [
    {
     "data": {
      "text/plain": [
       "distance            float64\n",
       "cab_type             object\n",
       "time_stamp            int64\n",
       "destination          object\n",
       "source               object\n",
       "price               float64\n",
       "surge_multiplier    float64\n",
       "id                   object\n",
       "product_id           object\n",
       "name                 object\n",
       "dtype: object"
      ]
     },
     "execution_count": 19,
     "metadata": {},
     "output_type": "execute_result"
    }
   ],
   "source": [
    "others.dtypes"
   ]
  },
  {
   "cell_type": "code",
   "execution_count": 22,
   "metadata": {},
   "outputs": [],
   "source": [
    "def convertEpochToRegular(epoch):\n",
    "    return time.strftime('%Y-%m-%d %H:%M:%S', time.localtime(epoch))\n",
    "\n",
    "others['time_stamp'] = others['time_stamp'].map(convertEpochToRegular)"
   ]
  },
  {
   "cell_type": "code",
   "execution_count": 23,
   "metadata": {},
   "outputs": [
    {
     "data": {
      "text/plain": [
       "0         2021-04-21 00:34:28\n",
       "1         2021-04-21 00:34:28\n",
       "2         2021-04-21 00:34:28\n",
       "3         2021-04-21 00:34:28\n",
       "4         2021-04-21 00:34:28\n",
       "                 ...         \n",
       "693066    2021-04-21 00:34:28\n",
       "693067    2021-04-21 00:34:28\n",
       "693068    2021-04-21 00:34:28\n",
       "693069    2021-04-21 00:34:28\n",
       "693070    2021-04-21 00:34:28\n",
       "Name: time_stamp, Length: 693071, dtype: object"
      ]
     },
     "execution_count": 23,
     "metadata": {},
     "output_type": "execute_result"
    }
   ],
   "source": [
    "others['time_stamp']"
   ]
  },
  {
   "cell_type": "code",
   "execution_count": 24,
   "metadata": {},
   "outputs": [],
   "source": [
    "others.to_csv('others_processed.csv', index=False)"
   ]
  },
  {
   "cell_type": "code",
   "execution_count": null,
   "metadata": {},
   "outputs": [],
   "source": [
    "def getDistance():\n",
    "    # approximate radius of earth in km\n",
    "    R = 6373.0\n",
    "\n",
    "    lat1 = radians(-73.844311)\n",
    "    lon1 = radians(40.721319)\n",
    "    lat2 = radians(-73.84161)\n",
    "    lon2 = radians(40.712278)\n",
    "\n",
    "    dlon = lon2 - lon1\n",
    "    dlat = lat2 - lat1\n",
    "\n",
    "    a = sin(dlat / 2)**2 + cos(lat1) * cos(lat2) * sin(dlon / 2)**2\n",
    "    c = 2 * atan2(sqrt(a), sqrt(1 - a))\n",
    "\n",
    "    distance = R * c\n",
    "\n",
    "    print(\"Result:\", distance)\n",
    "    print(\"Should be:\", 278.546, \"km\")\n",
    "\n"
   ]
  }
 ],
 "metadata": {
  "kernelspec": {
   "display_name": "Python 3",
   "language": "python",
   "name": "python3"
  },
  "language_info": {
   "codemirror_mode": {
    "name": "ipython",
    "version": 3
   },
   "file_extension": ".py",
   "mimetype": "text/x-python",
   "name": "python",
   "nbconvert_exporter": "python",
   "pygments_lexer": "ipython3",
   "version": "3.8.5"
  }
 },
 "nbformat": 4,
 "nbformat_minor": 2
}
